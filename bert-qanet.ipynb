{
  "cells": [
    {
      "cell_type": "markdown",
      "id": "2ee0db66",
      "metadata": {
        "id": "2ee0db66",
        "papermill": {
          "duration": 0.024423,
          "end_time": "2023-05-15T23:56:38.323142",
          "exception": false,
          "start_time": "2023-05-15T23:56:38.298719",
          "status": "completed"
        },
        "tags": []
      },
      "source": [
        "# New York University: Deep Learning Final Project\n",
        "\n",
        "## Building A More Context Aware Question Answering Model With QANet Architecture\n",
        "\n",
        "### Introduction \n",
        "\n",
        "Traditional sequential question answering models often struggle to accurately understand and respond to questions that require a deeper understanding of context. To address this limitation, we propose a context-aware question answering model by extending the QANet architecture. Our model effectively models both local and global interactions in the input text, capturing rich contextual information.\n",
        "\n",
        "In our experiments, we incorporated BERT embeddings into the input embedding layer, leveraging their success in capturing contextualized representations. We modified the model architecture to accommodate the larger dimensions of BERT embeddings. Additionally, we explored the impact of improving word embedding dimensions on the model's trainable parameters, training time, and the number of attention heads required for comparable or better performance.\n",
        "\n",
        "Comparing our approach with using glove word embeddings, we observed that the best performing BERT-QANet model achieved an F-1 score of 61.23, while the Glove-QANet model tended to saturate at a lower F-1 score of 58.27. Due to hardware constraints, we limited the training to 20 epochs, with each epoch taking approximately 2 hours.\n",
        "\n",
        "Our findings suggest that utilizing context-aware word embeddings has the potential to enhance the performance of the QANet model in question answering tasks. However, it is important to note that this improvement comes at the cost of increased training time."
      ]
    },
    {
      "cell_type": "code",
      "execution_count": null,
      "id": "b57227da",
      "metadata": {
        "execution": {
          "iopub.execute_input": "2023-05-15T23:56:38.381826Z",
          "iopub.status.busy": "2023-05-15T23:56:38.381340Z",
          "iopub.status.idle": "2023-05-15T23:56:38.399075Z",
          "shell.execute_reply": "2023-05-15T23:56:38.396922Z"
        },
        "id": "b57227da",
        "papermill": {
          "duration": 0.056822,
          "end_time": "2023-05-15T23:56:38.406376",
          "exception": false,
          "start_time": "2023-05-15T23:56:38.349554",
          "status": "completed"
        },
        "tags": []
      },
      "outputs": [],
      "source": [
        "import locale\n",
        "def getpreferredencoding(do_setlocale = True):\n",
        "    return \"UTF-8\"\n",
        "locale.getpreferredencoding = getpreferredencoding"
      ]
    },
    {
      "cell_type": "code",
      "execution_count": null,
      "id": "0cdc24d3",
      "metadata": {
        "execution": {
          "iopub.execute_input": "2023-05-15T23:56:38.456744Z",
          "iopub.status.busy": "2023-05-15T23:56:38.456394Z",
          "iopub.status.idle": "2023-05-15T23:56:50.583539Z",
          "shell.execute_reply": "2023-05-15T23:56:50.582401Z"
        },
        "id": "0cdc24d3",
        "outputId": "e41ff7c1-62df-4539-9bb6-7683ef8b0834",
        "papermill": {
          "duration": 12.15274,
          "end_time": "2023-05-15T23:56:50.585828",
          "exception": false,
          "start_time": "2023-05-15T23:56:38.433088",
          "status": "completed"
        },
        "tags": []
      },
      "outputs": [
        {
          "name": "stdout",
          "output_type": "stream",
          "text": [
            "Requirement already satisfied: transformers in /opt/conda/lib/python3.10/site-packages (4.28.1)\r\n"
          ]
        },
        {
          "name": "stdout",
          "output_type": "stream",
          "text": [
            "Requirement already satisfied: packaging>=20.0 in /opt/conda/lib/python3.10/site-packages (from transformers) (21.3)\r\n",
            "Requirement already satisfied: requests in /opt/conda/lib/python3.10/site-packages (from transformers) (2.28.2)\r\n",
            "Requirement already satisfied: numpy>=1.17 in /opt/conda/lib/python3.10/site-packages (from transformers) (1.23.5)\r\n",
            "Requirement already satisfied: tokenizers!=0.11.3,<0.14,>=0.11.1 in /opt/conda/lib/python3.10/site-packages (from transformers) (0.13.3)\r\n",
            "Requirement already satisfied: filelock in /opt/conda/lib/python3.10/site-packages (from transformers) (3.11.0)\r\n",
            "Requirement already satisfied: huggingface-hub<1.0,>=0.11.0 in /opt/conda/lib/python3.10/site-packages (from transformers) (0.13.4)\r\n",
            "Requirement already satisfied: regex!=2019.12.17 in /opt/conda/lib/python3.10/site-packages (from transformers) (2023.3.23)\r\n",
            "Requirement already satisfied: pyyaml>=5.1 in /opt/conda/lib/python3.10/site-packages (from transformers) (6.0)\r\n",
            "Requirement already satisfied: tqdm>=4.27 in /opt/conda/lib/python3.10/site-packages (from transformers) (4.64.1)\r\n"
          ]
        },
        {
          "name": "stdout",
          "output_type": "stream",
          "text": [
            "Requirement already satisfied: typing-extensions>=3.7.4.3 in /opt/conda/lib/python3.10/site-packages (from huggingface-hub<1.0,>=0.11.0->transformers) (4.5.0)\r\n",
            "Requirement already satisfied: pyparsing!=3.0.5,>=2.0.2 in /opt/conda/lib/python3.10/site-packages (from packaging>=20.0->transformers) (3.0.9)\r\n"
          ]
        },
        {
          "name": "stdout",
          "output_type": "stream",
          "text": [
            "Requirement already satisfied: certifi>=2017.4.17 in /opt/conda/lib/python3.10/site-packages (from requests->transformers) (2022.12.7)\r\n",
            "Requirement already satisfied: charset-normalizer<4,>=2 in /opt/conda/lib/python3.10/site-packages (from requests->transformers) (2.1.1)\r\n",
            "Requirement already satisfied: urllib3<1.27,>=1.21.1 in /opt/conda/lib/python3.10/site-packages (from requests->transformers) (1.26.15)\r\n",
            "Requirement already satisfied: idna<4,>=2.5 in /opt/conda/lib/python3.10/site-packages (from requests->transformers) (3.4)\r\n"
          ]
        },
        {
          "name": "stdout",
          "output_type": "stream",
          "text": [
            "\u001b[33mWARNING: Running pip as the 'root' user can result in broken permissions and conflicting behaviour with the system package manager. It is recommended to use a virtual environment instead: https://pip.pypa.io/warnings/venv\u001b[0m\u001b[33m\r\n",
            "\u001b[0m"
          ]
        }
      ],
      "source": [
        "!pip install transformers"
      ]
    },
    {
      "cell_type": "code",
      "execution_count": null,
      "id": "5d22545f",
      "metadata": {
        "papermill": {
          "duration": 0.01731,
          "end_time": "2023-05-15T23:56:50.621619",
          "exception": false,
          "start_time": "2023-05-15T23:56:50.604309",
          "status": "completed"
        },
        "tags": [],
        "id": "5d22545f"
      },
      "outputs": [],
      "source": []
    },
    {
      "cell_type": "code",
      "execution_count": null,
      "id": "6da6138b",
      "metadata": {
        "execution": {
          "iopub.execute_input": "2023-05-15T23:56:50.657548Z",
          "iopub.status.busy": "2023-05-15T23:56:50.657206Z",
          "iopub.status.idle": "2023-05-15T23:57:12.728730Z",
          "shell.execute_reply": "2023-05-15T23:57:12.727753Z"
        },
        "id": "6da6138b",
        "papermill": {
          "duration": 22.092857,
          "end_time": "2023-05-15T23:57:12.731440",
          "exception": false,
          "start_time": "2023-05-15T23:56:50.638583",
          "status": "completed"
        },
        "tags": [],
        "outputId": "aca1e165-31dd-4bf3-b184-9223171f1040"
      },
      "outputs": [
        {
          "name": "stderr",
          "output_type": "stream",
          "text": [
            "/opt/conda/lib/python3.10/site-packages/scipy/__init__.py:146: UserWarning: A NumPy version >=1.16.5 and <1.23.0 is required for this version of SciPy (detected version 1.23.5\n",
            "  warnings.warn(f\"A NumPy version >={np_minversion} and <{np_maxversion}\"\n"
          ]
        }
      ],
      "source": [
        "import torch\n",
        "import numpy as np\n",
        "import pandas as pd\n",
        "import pickle\n",
        "import re, os, string, typing, gc, json\n",
        "import spacy\n",
        "from collections import Counter\n",
        "import torch\n",
        "from transformers import BertTokenizer, BertModel\n",
        "\n",
        "nlp = spacy.load('en_core_web_sm')\n",
        "\n",
        "\n",
        "def load_json(path):\n",
        "    '''\n",
        "    Loads the JSON file of the Squad dataset.\n",
        "    Returns the json object of the dataset.\n",
        "    '''\n",
        "    with open(path, 'r', encoding='utf-8') as f:\n",
        "        data = json.load(f)\n",
        "        \n",
        "    print(\"Length of data: \", len(data['data']))\n",
        "    print(\"Data Keys: \", data['data'][0].keys())\n",
        "    print(\"Title: \", data['data'][0]['title'])\n",
        "    \n",
        "    return data\n",
        "\n",
        "\n",
        "\n",
        "\n",
        "def parse_data(data:dict)->list:\n",
        "    '''\n",
        "    Parses the JSON file of Squad dataset by looping through the\n",
        "    keys and values and returns a list of dictionaries with\n",
        "    context, query and label triplets being the keys of each dict.\n",
        "    '''\n",
        "    data = data['data']\n",
        "    qa_list = []\n",
        "\n",
        "    for paragraphs in data:\n",
        "\n",
        "        for para in paragraphs['paragraphs']:\n",
        "            context = para['context']\n",
        "\n",
        "            for qa in para['qas']:\n",
        "                \n",
        "                id = qa['id']\n",
        "                question = qa['question']\n",
        "                \n",
        "                for ans in qa['answers']:\n",
        "                    answer = ans['text']\n",
        "                    ans_start = ans['answer_start']\n",
        "                    ans_end = ans_start + len(answer)\n",
        "                    \n",
        "                    qa_dict = {}\n",
        "                    qa_dict['id'] = id\n",
        "                    qa_dict['context'] = context\n",
        "                    qa_dict['question'] = question\n",
        "                    qa_dict['label'] = [ans_start, ans_end]\n",
        "\n",
        "                    qa_dict['answer'] = answer\n",
        "                    qa_list.append(qa_dict)    \n",
        "\n",
        "    \n",
        "    return qa_list\n",
        "\n",
        "\n",
        "\n",
        "def filter_large_examples(df):\n",
        "    '''\n",
        "    Returns ids of examples where context lengths, query lengths and answer lengths are\n",
        "    above a particular threshold. These ids can then be dropped from the dataframe. \n",
        "    This is explicitly mentioned in QANet but can be done for other models as well.\n",
        "    '''\n",
        "    \n",
        "    ctx_lens = []\n",
        "    query_lens = []\n",
        "    ans_lens = []\n",
        "    for index, row in df.iterrows():\n",
        "        ctx_tokens = [w.text for w in nlp(row.context, disable=['parser','ner','tagger'])]\n",
        "        if len(ctx_tokens)>400:\n",
        "            ctx_lens.append(row.name)\n",
        "\n",
        "        query_tokens = [w.text for w in nlp(row.question, disable=['parser','tagger','ner'])]\n",
        "        if len(query_tokens)>50:\n",
        "            query_lens.append(row.name)\n",
        "\n",
        "        ans_tokens = [w.text for w in nlp(row.answer, disable=['parser','tagger','ner'])]\n",
        "        if len(ans_tokens)>30:\n",
        "            ans_lens.append(row.name)\n",
        "\n",
        "        assert row.name == index\n",
        "    \n",
        "    return set(ans_lens + ctx_lens + query_lens)\n",
        "\n",
        "\n",
        "def gather_text_for_vocab(dfs:list):\n",
        "    '''\n",
        "    Gathers text from contexts and questions to build a vocabulary.\n",
        "    \n",
        "    :param dfs: list of dataframes of SQUAD dataset.\n",
        "    :returns: list of contexts and questions\n",
        "    '''\n",
        "    \n",
        "    text = []\n",
        "    total = 0\n",
        "    for df in dfs:\n",
        "        unique_contexts = list(df.context.unique())\n",
        "        unique_questions = list(df.question.unique())\n",
        "        total += df.context.nunique() + df.question.nunique()\n",
        "        text.extend(unique_contexts + unique_questions)\n",
        "    \n",
        "    assert len(text) == total\n",
        "    \n",
        "    return text\n",
        "\n",
        "\n",
        "\n",
        "\n",
        "def build_word_vocab(vocab_text):\n",
        "    '''\n",
        "    Builds a word-level vocabulary from the given text.\n",
        "    \n",
        "    :param list vocab_text: list of contexts and questions\n",
        "    :returns \n",
        "        dict word2idx: word to index mapping of words\n",
        "        dict idx2word: integer to word mapping\n",
        "        list word_vocab: list of words sorted by frequency\n",
        "    '''\n",
        "    \n",
        "    \n",
        "    words = []\n",
        "    for sent in vocab_text:\n",
        "        for word in nlp(sent, disable=['parser','tagger','ner']):\n",
        "            words.append(word.text)\n",
        "\n",
        "    word_counter = Counter(words)\n",
        "    word_vocab = sorted(word_counter, key=word_counter.get, reverse=True)\n",
        "    print(f\"raw-vocab: {len(word_vocab)}\")\n",
        "    word_vocab.insert(0, '<unk>')\n",
        "    word_vocab.insert(1, '<pad>')\n",
        "    print(f\"vocab-length: {len(word_vocab)}\")\n",
        "    word2idx = {word:idx for idx, word in enumerate(word_vocab)}\n",
        "    print(f\"word2idx-length: {len(word2idx)}\")\n",
        "    idx2word = {v:k for k,v in word2idx.items()}\n",
        "    \n",
        "    \n",
        "    return word2idx, idx2word, word_vocab\n",
        "\n",
        "\n",
        "\n",
        "\n",
        "\n",
        "def build_char_vocab(vocab_text):\n",
        "    '''\n",
        "    Builds a character-level vocabulary from the given text.\n",
        "    \n",
        "    :param list vocab_text: list of contexts and questions\n",
        "    :returns \n",
        "        dict char2idx: character to index mapping of words\n",
        "        list char_vocab: list of characters sorted by frequency\n",
        "    '''\n",
        "    \n",
        "    chars = []\n",
        "    for sent in vocab_text:\n",
        "        for ch in sent:\n",
        "            chars.append(ch)\n",
        "\n",
        "    char_counter = Counter(chars)\n",
        "    char_vocab = sorted(char_counter, key=char_counter.get, reverse=True)\n",
        "    print(f\"raw-char-vocab: {len(char_vocab)}\")\n",
        "    high_freq_char = [char for char, count in char_counter.items() if count>=20]\n",
        "    char_vocab = list(set(char_vocab).intersection(set(high_freq_char)))\n",
        "    print(f\"char-vocab-intersect: {len(char_vocab)}\")\n",
        "    char_vocab.insert(0,'<unk>')\n",
        "    char_vocab.insert(1,'<pad>')\n",
        "    char2idx = {char:idx for idx, char in enumerate(char_vocab)}\n",
        "    print(f\"char2idx-length: {len(char2idx)}\")\n",
        "    \n",
        "    return char2idx, char_vocab\n",
        "\n",
        "\n",
        "\n",
        "def context_to_ids(text, word2idx):\n",
        "    '''\n",
        "    Converts context text to their respective ids by mapping each word\n",
        "    using word2idx. Input text is tokenized using spacy tokenizer first.\n",
        "    \n",
        "    :param str text: context text to be converted\n",
        "    :param dict word2idx: word to id mapping\n",
        "\n",
        "    :returns list context_ids: list of mapped ids\n",
        "    \n",
        "    :raises assertion error: sanity check\n",
        "    \n",
        "    '''\n",
        "    \n",
        "    context_tokens = [w.text for w in nlp(text, disable=['parser','tagger','ner'])]\n",
        "    context_ids = [word2idx[word] for word in context_tokens]\n",
        "    \n",
        "    assert len(context_ids) == len(context_tokens)\n",
        "    return context_ids\n",
        "\n",
        "\n",
        "\n",
        "    \n",
        "def question_to_ids(text, word2idx):\n",
        "    '''\n",
        "    Converts question text to their respective ids by mapping each word\n",
        "    using word2idx. Input text is tokenized using spacy tokenizer first.\n",
        "    \n",
        "    :param str text: question text to be converted\n",
        "    :param dict word2idx: word to id mapping\n",
        "    :returns list context_ids: list of mapped ids\n",
        "    \n",
        "    :raises assertion error: sanity check\n",
        "    \n",
        "    '''\n",
        "    \n",
        "    question_tokens = [w.text for w in nlp(text, disable=['parser','tagger','ner'])]\n",
        "    question_ids = [word2idx[word] for word in question_tokens]\n",
        "    \n",
        "    assert len(question_ids) == len(question_tokens)\n",
        "    return question_ids\n",
        "    \n",
        "\n",
        "\n",
        "    \n",
        "def test_indices(df, idx2word):\n",
        "    '''\n",
        "    Performs the tests mentioned above. This method also gets the start and end of the answers\n",
        "    with respect to the context_ids for each example.\n",
        "    \n",
        "    :param dataframe df: SQUAD df\n",
        "    :param dict idx2word: inverse mapping of token ids to words\n",
        "    :returns\n",
        "        list start_value_error: example idx where the start idx is not found in the start spans\n",
        "                                of the text\n",
        "        list end_value_error: example idx where the end idx is not found in the end spans\n",
        "                              of the text\n",
        "        list assert_error: examples that fail assertion errors. A majority are due to the above errors\n",
        "        \n",
        "    '''\n",
        "\n",
        "    start_value_error = []\n",
        "    end_value_error = []\n",
        "    assert_error = []\n",
        "    for index, row in df.iterrows():\n",
        "\n",
        "        answer_tokens = [w.text for w in nlp(row['answer'], disable=['parser','tagger','ner'])]\n",
        "\n",
        "        start_token = answer_tokens[0]\n",
        "        end_token = answer_tokens[-1]\n",
        "        \n",
        "        context_span  = [(word.idx, word.idx + len(word.text)) \n",
        "                         for word in nlp(row['context'], disable=['parser','tagger','ner'])]\n",
        "\n",
        "        starts, ends = zip(*context_span)\n",
        "\n",
        "        answer_start, answer_end = row['label']\n",
        "\n",
        "        try:\n",
        "            start_idx = starts.index(answer_start)\n",
        "        except:\n",
        "            start_value_error.append(index)\n",
        "        try:\n",
        "            end_idx  = ends.index(answer_end)\n",
        "        except:\n",
        "            end_value_error.append(index)\n",
        "\n",
        "        try:\n",
        "            assert idx2word[row['context_ids'][start_idx]] == answer_tokens[0]\n",
        "            assert idx2word[row['context_ids'][end_idx]] == answer_tokens[-1]\n",
        "        except:\n",
        "            assert_error.append(index)\n",
        "\n",
        "\n",
        "    return start_value_error, end_value_error, assert_error\n",
        "\n",
        "\n",
        "\n",
        "def get_error_indices(df, idx2word):\n",
        "    \n",
        "    start_value_error, end_value_error, assert_error = test_indices(df, idx2word)\n",
        "    err_idx = start_value_error + end_value_error + assert_error\n",
        "    err_idx = set(err_idx)\n",
        "    print(f\"Number of error indices: {len(err_idx)}\")\n",
        "    \n",
        "    return err_idx\n",
        "\n",
        "\n",
        "\n",
        "def index_answer(row, idx2word):\n",
        "    '''\n",
        "    Takes in a row of the dataframe or one training example and\n",
        "    returns a tuple of start and end positions of answer by calculating \n",
        "    spans.\n",
        "    '''\n",
        "    \n",
        "    context_span = [(word.idx, word.idx + len(word.text)) for word in nlp(row.context, disable=['parser','tagger','ner'])]\n",
        "    starts, ends = zip(*context_span)\n",
        "    \n",
        "    answer_start, answer_end = row.label\n",
        "    start_idx = starts.index(answer_start)\n",
        " \n",
        "    end_idx  = ends.index(answer_end)\n",
        "    \n",
        "    ans_toks = [w.text for w in nlp(row.answer,disable=['parser','tagger','ner'])]\n",
        "    ans_start = ans_toks[0]\n",
        "    ans_end = ans_toks[-1]\n",
        "    assert idx2word[row.context_ids[start_idx]] == ans_start\n",
        "    assert idx2word[row.context_ids[end_idx]] == ans_end\n",
        "    \n",
        "    return [start_idx, end_idx]\n",
        "\n",
        "\n",
        "\n",
        "\n"
      ]
    },
    {
      "cell_type": "code",
      "execution_count": null,
      "id": "9680c428",
      "metadata": {
        "execution": {
          "iopub.execute_input": "2023-05-15T23:57:12.768157Z",
          "iopub.status.busy": "2023-05-15T23:57:12.767797Z",
          "iopub.status.idle": "2023-05-15T23:57:14.690065Z",
          "shell.execute_reply": "2023-05-15T23:57:14.689077Z"
        },
        "id": "9680c428",
        "papermill": {
          "duration": 1.943134,
          "end_time": "2023-05-15T23:57:14.692545",
          "exception": false,
          "start_time": "2023-05-15T23:57:12.749411",
          "status": "completed"
        },
        "tags": []
      },
      "outputs": [],
      "source": [
        "from torch import nn\n",
        "import torch\n",
        "import numpy as np\n",
        "import pandas as pd\n",
        "import pickle, time\n",
        "import re, os, string, typing, gc, json\n",
        "import torch.nn.functional as F\n",
        "import spacy\n",
        "from sklearn.model_selection import train_test_split\n",
        "from collections import Counter\n",
        "nlp = spacy.load('en_core_web_sm')\n",
        "# from preprocess import *\n",
        "%load_ext autoreload\n",
        "%autoreload 2"
      ]
    },
    {
      "cell_type": "markdown",
      "id": "a58d493e",
      "metadata": {
        "id": "a58d493e",
        "papermill": {
          "duration": 0.017487,
          "end_time": "2023-05-15T23:57:14.727373",
          "exception": false,
          "start_time": "2023-05-15T23:57:14.709886",
          "status": "completed"
        },
        "tags": []
      },
      "source": [
        "## Data preprocessing"
      ]
    },
    {
      "cell_type": "code",
      "execution_count": null,
      "id": "93a30887",
      "metadata": {
        "execution": {
          "iopub.execute_input": "2023-05-15T23:57:14.763348Z",
          "iopub.status.busy": "2023-05-15T23:57:14.763021Z",
          "iopub.status.idle": "2023-05-15T23:57:14.864525Z",
          "shell.execute_reply": "2023-05-15T23:57:14.863669Z"
        },
        "id": "93a30887",
        "papermill": {
          "duration": 0.121788,
          "end_time": "2023-05-15T23:57:14.866597",
          "exception": false,
          "start_time": "2023-05-15T23:57:14.744809",
          "status": "completed"
        },
        "tags": []
      },
      "outputs": [],
      "source": [
        "# # # load dataset json files\n",
        "\n",
        "# train_data = load_json('/content/drive/MyDrive/Files-NLP/squad_train.json')\n",
        "# valid_data = load_json('/content/drive/MyDrive/Files-NLP/squad_dev.json')"
      ]
    },
    {
      "cell_type": "code",
      "execution_count": null,
      "id": "dc99b14f",
      "metadata": {
        "execution": {
          "iopub.execute_input": "2023-05-15T23:57:14.904151Z",
          "iopub.status.busy": "2023-05-15T23:57:14.903830Z",
          "iopub.status.idle": "2023-05-15T23:57:15.002303Z",
          "shell.execute_reply": "2023-05-15T23:57:15.001471Z"
        },
        "id": "dc99b14f",
        "papermill": {
          "duration": 0.118308,
          "end_time": "2023-05-15T23:57:15.004360",
          "exception": false,
          "start_time": "2023-05-15T23:57:14.886052",
          "status": "completed"
        },
        "tags": []
      },
      "outputs": [],
      "source": [
        "# # parse the json structure to return the data as a list of dictionaries\n",
        "\n",
        "# train_list = parse_data(train_data)\n",
        "# #train_list = train_list[0:1500]\n",
        "# valid_list = parse_data(valid_data)\n",
        "# #valid_list = valid_list[0:100]"
      ]
    },
    {
      "cell_type": "code",
      "execution_count": null,
      "id": "586d0b96",
      "metadata": {
        "execution": {
          "iopub.execute_input": "2023-05-15T23:57:15.039204Z",
          "iopub.status.busy": "2023-05-15T23:57:15.038937Z",
          "iopub.status.idle": "2023-05-15T23:57:15.136138Z",
          "shell.execute_reply": "2023-05-15T23:57:15.135344Z"
        },
        "id": "586d0b96",
        "papermill": {
          "duration": 0.1168,
          "end_time": "2023-05-15T23:57:15.138093",
          "exception": false,
          "start_time": "2023-05-15T23:57:15.021293",
          "status": "completed"
        },
        "tags": []
      },
      "outputs": [],
      "source": [
        "# print('Train list len: ',len(train_list))\n",
        "# print('Valid list len: ',len(valid_list))"
      ]
    },
    {
      "cell_type": "code",
      "execution_count": null,
      "id": "6cbb2309",
      "metadata": {
        "execution": {
          "iopub.execute_input": "2023-05-15T23:57:15.172687Z",
          "iopub.status.busy": "2023-05-15T23:57:15.172430Z",
          "iopub.status.idle": "2023-05-15T23:57:15.269484Z",
          "shell.execute_reply": "2023-05-15T23:57:15.268669Z"
        },
        "id": "6cbb2309",
        "papermill": {
          "duration": 0.116694,
          "end_time": "2023-05-15T23:57:15.271485",
          "exception": false,
          "start_time": "2023-05-15T23:57:15.154791",
          "status": "completed"
        },
        "tags": []
      },
      "outputs": [],
      "source": [
        "# # # converting the lists into dataframes\n",
        "\n",
        "# train_df = pd.DataFrame(train_list)\n",
        "# valid_df = pd.DataFrame(valid_list)"
      ]
    },
    {
      "cell_type": "code",
      "execution_count": null,
      "id": "106fde6e",
      "metadata": {
        "execution": {
          "iopub.execute_input": "2023-05-15T23:57:15.306185Z",
          "iopub.status.busy": "2023-05-15T23:57:15.305898Z",
          "iopub.status.idle": "2023-05-15T23:57:15.403470Z",
          "shell.execute_reply": "2023-05-15T23:57:15.402544Z"
        },
        "id": "106fde6e",
        "papermill": {
          "duration": 0.117299,
          "end_time": "2023-05-15T23:57:15.405643",
          "exception": false,
          "start_time": "2023-05-15T23:57:15.288344",
          "status": "completed"
        },
        "tags": []
      },
      "outputs": [],
      "source": [
        "# train_df.head()"
      ]
    },
    {
      "cell_type": "code",
      "execution_count": null,
      "id": "d839f8c2",
      "metadata": {
        "execution": {
          "iopub.execute_input": "2023-05-15T23:57:15.442155Z",
          "iopub.status.busy": "2023-05-15T23:57:15.440776Z",
          "iopub.status.idle": "2023-05-15T23:57:15.539114Z",
          "shell.execute_reply": "2023-05-15T23:57:15.538283Z"
        },
        "id": "d839f8c2",
        "papermill": {
          "duration": 0.118367,
          "end_time": "2023-05-15T23:57:15.541248",
          "exception": false,
          "start_time": "2023-05-15T23:57:15.422881",
          "status": "completed"
        },
        "tags": []
      },
      "outputs": [],
      "source": [
        "# # # get indices of outliers and drop them from the dataframe\n",
        "\n",
        "# %time drop_ids_train = filter_large_examples(train_df)\n",
        "# train_df.drop(list(drop_ids_train), inplace=True)\n",
        "\n",
        "# %time drop_ids_valid = filter_large_examples(valid_df)\n",
        "# valid_df.drop(list(drop_ids_valid), inplace=True)"
      ]
    },
    {
      "cell_type": "code",
      "execution_count": null,
      "id": "3b8c5ab8",
      "metadata": {
        "execution": {
          "iopub.execute_input": "2023-05-15T23:57:15.576153Z",
          "iopub.status.busy": "2023-05-15T23:57:15.575745Z",
          "iopub.status.idle": "2023-05-15T23:57:15.673201Z",
          "shell.execute_reply": "2023-05-15T23:57:15.672412Z"
        },
        "id": "3b8c5ab8",
        "papermill": {
          "duration": 0.117039,
          "end_time": "2023-05-15T23:57:15.675187",
          "exception": false,
          "start_time": "2023-05-15T23:57:15.558148",
          "status": "completed"
        },
        "tags": []
      },
      "outputs": [],
      "source": [
        "# # # gather text to build vocabularies\n",
        "\n",
        "# vocab_text = gather_text_for_vocab([train_df, valid_df])\n",
        "# print(\"Number of sentences in the dataset: \", len(vocab_text))"
      ]
    },
    {
      "cell_type": "code",
      "execution_count": null,
      "id": "1530fc27",
      "metadata": {
        "execution": {
          "iopub.execute_input": "2023-05-15T23:57:15.710157Z",
          "iopub.status.busy": "2023-05-15T23:57:15.709866Z",
          "iopub.status.idle": "2023-05-15T23:57:15.816205Z",
          "shell.execute_reply": "2023-05-15T23:57:15.815357Z"
        },
        "id": "1530fc27",
        "papermill": {
          "duration": 0.126108,
          "end_time": "2023-05-15T23:57:15.818297",
          "exception": false,
          "start_time": "2023-05-15T23:57:15.692189",
          "status": "completed"
        },
        "tags": []
      },
      "outputs": [],
      "source": [
        "# # # # build word and character-level vocabularies\n",
        "\n",
        "# %time word2idx, idx2word, word_vocab = build_word_vocab(vocab_text)\n",
        "# # print(\"----------------------------------\")\n"
      ]
    },
    {
      "cell_type": "code",
      "execution_count": null,
      "id": "dc6a05d8",
      "metadata": {
        "execution": {
          "iopub.execute_input": "2023-05-15T23:57:15.853831Z",
          "iopub.status.busy": "2023-05-15T23:57:15.853019Z",
          "iopub.status.idle": "2023-05-15T23:57:15.950102Z",
          "shell.execute_reply": "2023-05-15T23:57:15.949269Z"
        },
        "id": "dc6a05d8",
        "papermill": {
          "duration": 0.116965,
          "end_time": "2023-05-15T23:57:15.952285",
          "exception": false,
          "start_time": "2023-05-15T23:57:15.835320",
          "status": "completed"
        },
        "tags": []
      },
      "outputs": [],
      "source": [
        "# %time char2idx, char_vocab = build_char_vocab(vocab_text)"
      ]
    },
    {
      "cell_type": "code",
      "execution_count": null,
      "id": "759950b2",
      "metadata": {
        "execution": {
          "iopub.execute_input": "2023-05-15T23:57:15.988042Z",
          "iopub.status.busy": "2023-05-15T23:57:15.987098Z",
          "iopub.status.idle": "2023-05-15T23:57:16.084131Z",
          "shell.execute_reply": "2023-05-15T23:57:16.083300Z"
        },
        "id": "759950b2",
        "papermill": {
          "duration": 0.117125,
          "end_time": "2023-05-15T23:57:16.086287",
          "exception": false,
          "start_time": "2023-05-15T23:57:15.969162",
          "status": "completed"
        },
        "tags": []
      },
      "outputs": [],
      "source": [
        "# # # numericalize context and questions for training and validation set\n",
        "\n",
        "# %time train_df['context_ids'] = train_df.context.apply(context_to_ids, word2idx=word2idx)\n",
        "# %time valid_df['context_ids'] = valid_df.context.apply(context_to_ids, word2idx=word2idx)\n",
        "# %time train_df['question_ids'] = train_df.question.apply(question_to_ids, word2idx=word2idx)\n",
        "# %time valid_df['question_ids'] = valid_df.question.apply(question_to_ids, word2idx=word2idx)"
      ]
    },
    {
      "cell_type": "code",
      "execution_count": null,
      "id": "6891ed03",
      "metadata": {
        "execution": {
          "iopub.execute_input": "2023-05-15T23:57:16.121330Z",
          "iopub.status.busy": "2023-05-15T23:57:16.121052Z",
          "iopub.status.idle": "2023-05-15T23:57:16.218495Z",
          "shell.execute_reply": "2023-05-15T23:57:16.217675Z"
        },
        "id": "6891ed03",
        "papermill": {
          "duration": 0.117267,
          "end_time": "2023-05-15T23:57:16.220530",
          "exception": false,
          "start_time": "2023-05-15T23:57:16.103263",
          "status": "completed"
        },
        "tags": []
      },
      "outputs": [],
      "source": [
        "# # # get indices with tokenization errors and drop those indices \n",
        "\n",
        "# train_err = get_error_indices(train_df, idx2word)\n",
        "# valid_err = get_error_indices(valid_df, idx2word)\n",
        "\n",
        "# train_df.drop(train_err, inplace=True)\n",
        "# valid_df.drop(valid_err, inplace=True)"
      ]
    },
    {
      "cell_type": "code",
      "execution_count": null,
      "id": "a41ec444",
      "metadata": {
        "execution": {
          "iopub.execute_input": "2023-05-15T23:57:16.256467Z",
          "iopub.status.busy": "2023-05-15T23:57:16.255054Z",
          "iopub.status.idle": "2023-05-15T23:57:16.351902Z",
          "shell.execute_reply": "2023-05-15T23:57:16.351086Z"
        },
        "id": "a41ec444",
        "papermill": {
          "duration": 0.116785,
          "end_time": "2023-05-15T23:57:16.354154",
          "exception": false,
          "start_time": "2023-05-15T23:57:16.237369",
          "status": "completed"
        },
        "tags": []
      },
      "outputs": [],
      "source": [
        "# len(train_df), len(valid_df)"
      ]
    },
    {
      "cell_type": "code",
      "execution_count": null,
      "id": "bf09ca1d",
      "metadata": {
        "execution": {
          "iopub.execute_input": "2023-05-15T23:57:16.390117Z",
          "iopub.status.busy": "2023-05-15T23:57:16.389291Z",
          "iopub.status.idle": "2023-05-15T23:57:16.488450Z",
          "shell.execute_reply": "2023-05-15T23:57:16.487566Z"
        },
        "id": "bf09ca1d",
        "papermill": {
          "duration": 0.119729,
          "end_time": "2023-05-15T23:57:16.490700",
          "exception": false,
          "start_time": "2023-05-15T23:57:16.370971",
          "status": "completed"
        },
        "tags": []
      },
      "outputs": [],
      "source": [
        "\n",
        "# # get start and end positions of answers from the context\n",
        "# # this is basically the label for training QA models\n",
        "\n",
        "# train_label_idx = train_df.apply(index_answer, axis=1, idx2word=idx2word)\n",
        "# valid_label_idx = valid_df.apply(index_answer, axis=1, idx2word=idx2word)\n",
        "\n",
        "# train_df['label_idx'] = train_label_idx\n",
        "# valid_df['label_idx'] = valid_label_idx"
      ]
    },
    {
      "cell_type": "markdown",
      "id": "2b6127f0",
      "metadata": {
        "id": "2b6127f0",
        "papermill": {
          "duration": 0.016674,
          "end_time": "2023-05-15T23:57:16.524513",
          "exception": false,
          "start_time": "2023-05-15T23:57:16.507839",
          "status": "completed"
        },
        "tags": []
      },
      "source": [
        "### Dump data to pickle files \n",
        "This ensures that we can directly access the preprocessed dataframe next time."
      ]
    },
    {
      "cell_type": "code",
      "execution_count": null,
      "id": "27020361",
      "metadata": {
        "execution": {
          "iopub.execute_input": "2023-05-15T23:57:16.560744Z",
          "iopub.status.busy": "2023-05-15T23:57:16.559241Z",
          "iopub.status.idle": "2023-05-15T23:57:16.660353Z",
          "shell.execute_reply": "2023-05-15T23:57:16.659472Z"
        },
        "id": "27020361",
        "papermill": {
          "duration": 0.121329,
          "end_time": "2023-05-15T23:57:16.662619",
          "exception": false,
          "start_time": "2023-05-15T23:57:16.541290",
          "status": "completed"
        },
        "tags": []
      },
      "outputs": [],
      "source": [
        "# train_df.to_pickle('qanettrain_1500.pkl')\n",
        "# valid_df.to_pickle('qanetvalid_1500.pkl')"
      ]
    },
    {
      "cell_type": "code",
      "execution_count": null,
      "id": "47c77630",
      "metadata": {
        "execution": {
          "iopub.execute_input": "2023-05-15T23:57:16.698165Z",
          "iopub.status.busy": "2023-05-15T23:57:16.697589Z",
          "iopub.status.idle": "2023-05-15T23:57:16.799514Z",
          "shell.execute_reply": "2023-05-15T23:57:16.798634Z"
        },
        "id": "47c77630",
        "papermill": {
          "duration": 0.122153,
          "end_time": "2023-05-15T23:57:16.801864",
          "exception": false,
          "start_time": "2023-05-15T23:57:16.679711",
          "status": "completed"
        },
        "tags": []
      },
      "outputs": [],
      "source": [
        "# import pickle\n",
        "# with open('qanetw2id_1500.pickle','wb') as handle:\n",
        "#     pickle.dump(word2idx, handle)\n",
        "\n",
        "# with open('qanetc2id_1500.pickle','wb') as handle:\n",
        "#     pickle.dump(char2idx, handle)"
      ]
    },
    {
      "cell_type": "markdown",
      "id": "33c6bff6",
      "metadata": {
        "id": "33c6bff6",
        "papermill": {
          "duration": 0.016799,
          "end_time": "2023-05-15T23:57:16.835894",
          "exception": false,
          "start_time": "2023-05-15T23:57:16.819095",
          "status": "completed"
        },
        "tags": []
      },
      "source": [
        "### Read data from pickle files\n",
        "\n",
        "You only need to run the preprocessing once. Some preprocessing functions can take upto 3 mins. Therefore, pickling preprocessed data can save a lot of time."
      ]
    },
    {
      "cell_type": "code",
      "execution_count": null,
      "id": "c4e97c93",
      "metadata": {
        "execution": {
          "iopub.execute_input": "2023-05-15T23:57:16.870723Z",
          "iopub.status.busy": "2023-05-15T23:57:16.870418Z",
          "iopub.status.idle": "2023-05-15T23:57:17.051229Z",
          "shell.execute_reply": "2023-05-15T23:57:17.050289Z"
        },
        "id": "c4e97c93",
        "papermill": {
          "duration": 0.200842,
          "end_time": "2023-05-15T23:57:17.053533",
          "exception": false,
          "start_time": "2023-05-15T23:57:16.852691",
          "status": "completed"
        },
        "tags": []
      },
      "outputs": [],
      "source": [
        "\n",
        "import pickle\n",
        "\n",
        "with open('/kaggle/input/qanetdata/qanetw2id.pickle','rb') as handle:\n",
        "    word2idx = pickle.load(handle)\n",
        "with open('/kaggle/input/qanetdata/qanetc2id.pickle','rb') as handle:\n",
        "    char2idx = pickle.load(handle)\n"
      ]
    },
    {
      "cell_type": "code",
      "execution_count": null,
      "id": "3f5cecb9",
      "metadata": {
        "execution": {
          "iopub.execute_input": "2023-05-15T23:57:17.089300Z",
          "iopub.status.busy": "2023-05-15T23:57:17.088732Z",
          "iopub.status.idle": "2023-05-15T23:57:19.987645Z",
          "shell.execute_reply": "2023-05-15T23:57:19.986660Z"
        },
        "id": "3f5cecb9",
        "papermill": {
          "duration": 2.919507,
          "end_time": "2023-05-15T23:57:19.990308",
          "exception": false,
          "start_time": "2023-05-15T23:57:17.070801",
          "status": "completed"
        },
        "tags": []
      },
      "outputs": [],
      "source": [
        "train_df = pd.read_pickle('/kaggle/input/qanetdata/qanettrain.pkl')\n",
        "valid_df = pd.read_pickle('/kaggle/input/qanetdata/qanetvalid.pkl')"
      ]
    },
    {
      "cell_type": "code",
      "execution_count": null,
      "id": "40fdf1a1",
      "metadata": {
        "execution": {
          "iopub.execute_input": "2023-05-15T23:57:20.026481Z",
          "iopub.status.busy": "2023-05-15T23:57:20.026164Z",
          "iopub.status.idle": "2023-05-15T23:57:20.141775Z",
          "shell.execute_reply": "2023-05-15T23:57:20.140916Z"
        },
        "id": "40fdf1a1",
        "papermill": {
          "duration": 0.135546,
          "end_time": "2023-05-15T23:57:20.143936",
          "exception": false,
          "start_time": "2023-05-15T23:57:20.008390",
          "status": "completed"
        },
        "tags": []
      },
      "outputs": [],
      "source": [
        "idx2word = {v:k for k,v in word2idx.items()}"
      ]
    },
    {
      "cell_type": "code",
      "execution_count": null,
      "id": "c570f8eb",
      "metadata": {
        "execution": {
          "iopub.execute_input": "2023-05-15T23:57:20.179515Z",
          "iopub.status.busy": "2023-05-15T23:57:20.179212Z",
          "iopub.status.idle": "2023-05-15T23:57:20.308332Z",
          "shell.execute_reply": "2023-05-15T23:57:20.307456Z"
        },
        "papermill": {
          "duration": 0.149157,
          "end_time": "2023-05-15T23:57:20.310374",
          "exception": false,
          "start_time": "2023-05-15T23:57:20.161217",
          "status": "completed"
        },
        "tags": [],
        "id": "c570f8eb"
      },
      "outputs": [],
      "source": [
        "import pickle\n",
        "\n",
        "with open('/kaggle/input/qanetdata/word_vocab.pickle','rb') as handle:\n",
        "    word_vocab = pickle.load(handle)\n"
      ]
    },
    {
      "cell_type": "markdown",
      "id": "3f687bfe",
      "metadata": {
        "id": "3f687bfe",
        "papermill": {
          "duration": 0.016538,
          "end_time": "2023-05-15T23:57:20.343800",
          "exception": false,
          "start_time": "2023-05-15T23:57:20.327262",
          "status": "completed"
        },
        "tags": []
      },
      "source": [
        "## Creating the dataloader\n",
        "\n",
        "This class takes care of batching, creating character vectors and returns all the things needed during training."
      ]
    },
    {
      "cell_type": "code",
      "execution_count": null,
      "id": "0fa95326",
      "metadata": {
        "execution": {
          "iopub.execute_input": "2023-05-15T23:57:20.378709Z",
          "iopub.status.busy": "2023-05-15T23:57:20.378427Z",
          "iopub.status.idle": "2023-05-15T23:57:20.492315Z",
          "shell.execute_reply": "2023-05-15T23:57:20.491474Z"
        },
        "id": "0fa95326",
        "papermill": {
          "duration": 0.133784,
          "end_time": "2023-05-15T23:57:20.494299",
          "exception": false,
          "start_time": "2023-05-15T23:57:20.360515",
          "status": "completed"
        },
        "tags": []
      },
      "outputs": [],
      "source": [
        "class SquadDataset:\n",
        "    '''\n",
        "    - Creates batches dynamically by padding to the length of largest example\n",
        "      in a given batch.\n",
        "    - Calulates character vectors for contexts and question.\n",
        "    - Returns tensors for training.\n",
        "    '''\n",
        "    def __init__(self, data, batch_size):\n",
        "        '''\n",
        "        data: dataframe\n",
        "        batch_size: int\n",
        "        '''\n",
        "        self.batch_size = batch_size\n",
        "        data = [data[i:i+self.batch_size] for i in range(0, len(data), self.batch_size)]\n",
        "        self.data = data\n",
        "        \n",
        "        \n",
        "    def __len__(self):\n",
        "        return len(self.data)\n",
        "    \n",
        "    def make_char_vector(self, max_sent_len, sentence, max_word_len=16):\n",
        "        \n",
        "        char_vec = torch.zeros(max_sent_len, max_word_len).type(torch.LongTensor)\n",
        "        \n",
        "        for i, word in enumerate(nlp(sentence, disable=['parser','tagger','ner'])):\n",
        "            for j, ch in enumerate(word.text):\n",
        "                if j == max_word_len:\n",
        "                    break\n",
        "                char_vec[i][j] = char2idx.get(ch, 0)\n",
        "        \n",
        "        return char_vec     \n",
        "    \n",
        "    def get_span(self, text):\n",
        "\n",
        "        text = nlp(text, disable=['parser','tagger','ner'])\n",
        "        span = [(w.idx, w.idx+len(w.text)) for w in text]\n",
        "\n",
        "        return span\n",
        "\n",
        "    \n",
        "    def __iter__(self):\n",
        "        '''\n",
        "        Creates batches of data and yields them.\n",
        "        \n",
        "        Each yield comprises of:\n",
        "        :padded_context: padded tensor of contexts for each batch \n",
        "        :padded_question: padded tensor of questions for each batch \n",
        "        :char_ctx & ques_ctx: character-level ids for context and question\n",
        "        :label: start and end index wrt context_ids\n",
        "        :context_text,answer_text: used while validation to calculate metrics\n",
        "        :ids: question_ids for evaluation\n",
        "        '''\n",
        "        \n",
        "        for batch in self.data:\n",
        "            \n",
        "            spans = []\n",
        "            ctx_text = []\n",
        "            answer_text = []\n",
        "            \n",
        "             \n",
        "            for ctx in batch.context:\n",
        "                ctx_text.append(ctx)\n",
        "                spans.append(self.get_span(ctx))\n",
        "            \n",
        "            for ans in batch.answer:\n",
        "                answer_text.append(ans)\n",
        "                \n",
        "            max_context_len = max([len(ctx) for ctx in batch.context_ids])\n",
        "            padded_context = torch.LongTensor(len(batch), max_context_len).fill_(1)\n",
        "            \n",
        "            for i, ctx in enumerate(batch.context_ids):\n",
        "                padded_context[i, :len(ctx)] = torch.LongTensor(ctx)\n",
        "                \n",
        "            max_word_ctx = 16\n",
        "          \n",
        "            char_ctx = torch.zeros(len(batch), max_context_len, max_word_ctx).type(torch.LongTensor)\n",
        "            for i, context in enumerate(batch.context):\n",
        "                char_ctx[i] = self.make_char_vector(max_context_len, context)\n",
        "            \n",
        "            max_question_len = max([len(ques) for ques in batch.question_ids])\n",
        "            padded_question = torch.LongTensor(len(batch), max_question_len).fill_(1)\n",
        "            \n",
        "            for i, ques in enumerate(batch.question_ids):\n",
        "                padded_question[i, :len(ques)] = torch.LongTensor(ques)\n",
        "                \n",
        "            max_word_ques = 16\n",
        "            \n",
        "            char_ques = torch.zeros(len(batch), max_question_len, max_word_ques).type(torch.LongTensor)\n",
        "            for i, question in enumerate(batch.question):\n",
        "                char_ques[i] = self.make_char_vector(max_question_len, question)\n",
        "            \n",
        "              \n",
        "            label = torch.LongTensor(list(batch.label_idx))\n",
        "            ids = list(batch.id)\n",
        "            \n",
        "            yield (padded_context, padded_question, char_ctx, char_ques, label, ctx_text, answer_text, ids)\n",
        "            \n",
        "            "
      ]
    },
    {
      "cell_type": "code",
      "execution_count": null,
      "id": "d2676b6e",
      "metadata": {
        "execution": {
          "iopub.execute_input": "2023-05-15T23:57:20.529229Z",
          "iopub.status.busy": "2023-05-15T23:57:20.528939Z",
          "iopub.status.idle": "2023-05-15T23:57:21.371068Z",
          "shell.execute_reply": "2023-05-15T23:57:21.370098Z"
        },
        "papermill": {
          "duration": 0.862299,
          "end_time": "2023-05-15T23:57:21.373518",
          "exception": false,
          "start_time": "2023-05-15T23:57:20.511219",
          "status": "completed"
        },
        "tags": [],
        "id": "d2676b6e"
      },
      "outputs": [],
      "source": [
        "# create dataloaders\n",
        "\n",
        "train_dataset = SquadDataset(train_df,16)\n",
        "valid_dataset = SquadDataset(valid_df,16)"
      ]
    },
    {
      "cell_type": "raw",
      "id": "f8085dda",
      "metadata": {
        "execution": {
          "iopub.execute_input": "2023-05-13T22:34:22.237077Z",
          "iopub.status.busy": "2023-05-13T22:34:22.236711Z",
          "iopub.status.idle": "2023-05-13T22:34:22.345705Z",
          "shell.execute_reply": "2023-05-13T22:34:22.344846Z",
          "shell.execute_reply.started": "2023-05-13T22:34:22.237046Z"
        },
        "id": "f8085dda",
        "papermill": {
          "duration": 0.016888,
          "end_time": "2023-05-15T23:57:21.407602",
          "exception": false,
          "start_time": "2023-05-15T23:57:21.390714",
          "status": "completed"
        },
        "tags": []
      },
      "source": []
    },
    {
      "cell_type": "code",
      "execution_count": null,
      "id": "e7688eb7",
      "metadata": {
        "execution": {
          "iopub.execute_input": "2023-05-15T23:57:21.443452Z",
          "iopub.status.busy": "2023-05-15T23:57:21.442583Z",
          "iopub.status.idle": "2023-05-15T23:57:21.543792Z",
          "shell.execute_reply": "2023-05-15T23:57:21.542945Z"
        },
        "id": "e7688eb7",
        "papermill": {
          "duration": 0.121358,
          "end_time": "2023-05-15T23:57:21.545940",
          "exception": false,
          "start_time": "2023-05-15T23:57:21.424582",
          "status": "completed"
        },
        "tags": []
      },
      "outputs": [],
      "source": [
        "# # looking at the shapes of various tensors returned by the loader\n",
        "\n",
        "# a = next(iter(train_dataset))\n",
        "# for i in range(len(a)):\n",
        "#     try:\n",
        "#         print(a[i].shape)\n",
        "#     except AttributeError:\n",
        "#         print(len(a[i]))"
      ]
    },
    {
      "cell_type": "code",
      "execution_count": null,
      "id": "114b9d3b",
      "metadata": {
        "id": "114b9d3b",
        "papermill": {
          "duration": 0.017779,
          "end_time": "2023-05-15T23:57:21.580599",
          "exception": false,
          "start_time": "2023-05-15T23:57:21.562820",
          "status": "completed"
        },
        "tags": []
      },
      "outputs": [],
      "source": []
    },
    {
      "cell_type": "code",
      "execution_count": null,
      "id": "030d87e7",
      "metadata": {
        "execution": {
          "iopub.execute_input": "2023-05-15T23:57:21.617572Z",
          "iopub.status.busy": "2023-05-15T23:57:21.616442Z",
          "iopub.status.idle": "2023-05-15T23:57:21.720631Z",
          "shell.execute_reply": "2023-05-15T23:57:21.716422Z"
        },
        "id": "030d87e7",
        "papermill": {
          "duration": 0.125326,
          "end_time": "2023-05-15T23:57:21.723685",
          "exception": false,
          "start_time": "2023-05-15T23:57:21.598359",
          "status": "completed"
        },
        "tags": []
      },
      "outputs": [],
      "source": [
        "# def get_glove_dict():\n",
        "#     '''\n",
        "#     Parses the glove word vectors text file and returns a dictionary with the words as\n",
        "#     keys and their respective pretrained word vectors as values.\n",
        "\n",
        "#     '''\n",
        "#     glove_dict = {}\n",
        "#     with open(\"/content/drive/MyDrive/Files-NLP/glove.840B.300d.txt\", \"r\", encoding=\"utf-8\") as f:\n",
        "#         for line in f:\n",
        "#             values = line.split(' ')\n",
        "#             word = values[0]\n",
        "#             vector = np.asarray(values[1:], dtype=\"float32\")\n",
        "#             glove_dict[word] = vector\n",
        "\n",
        "#     f.close()\n",
        "    \n",
        "#     return glove_dict"
      ]
    },
    {
      "cell_type": "code",
      "execution_count": null,
      "id": "02abdbbe",
      "metadata": {
        "execution": {
          "iopub.execute_input": "2023-05-15T23:57:21.783815Z",
          "iopub.status.busy": "2023-05-15T23:57:21.783512Z",
          "iopub.status.idle": "2023-05-15T23:57:21.925630Z",
          "shell.execute_reply": "2023-05-15T23:57:21.924742Z"
        },
        "id": "02abdbbe",
        "papermill": {
          "duration": 0.176492,
          "end_time": "2023-05-15T23:57:21.927839",
          "exception": false,
          "start_time": "2023-05-15T23:57:21.751347",
          "status": "completed"
        },
        "tags": []
      },
      "outputs": [],
      "source": [
        "# glove_dict = get_glove_dict()"
      ]
    },
    {
      "cell_type": "code",
      "execution_count": null,
      "id": "6f285f58",
      "metadata": {
        "id": "6f285f58",
        "papermill": {
          "duration": 0.016714,
          "end_time": "2023-05-15T23:57:21.961781",
          "exception": false,
          "start_time": "2023-05-15T23:57:21.945067",
          "status": "completed"
        },
        "tags": []
      },
      "outputs": [],
      "source": []
    },
    {
      "cell_type": "code",
      "execution_count": null,
      "id": "a2adb0e3",
      "metadata": {
        "execution": {
          "iopub.execute_input": "2023-05-15T23:57:21.997472Z",
          "iopub.status.busy": "2023-05-15T23:57:21.997168Z",
          "iopub.status.idle": "2023-05-15T23:57:22.102842Z",
          "shell.execute_reply": "2023-05-15T23:57:22.101947Z"
        },
        "id": "a2adb0e3",
        "papermill": {
          "duration": 0.126507,
          "end_time": "2023-05-15T23:57:22.105161",
          "exception": false,
          "start_time": "2023-05-15T23:57:21.978654",
          "status": "completed"
        },
        "tags": []
      },
      "outputs": [],
      "source": [
        "# def create_weights_matrix(glove_dict):\n",
        "#     '''\n",
        "#     Creates a weight matrix of the words that are common in the GloVe vocab and\n",
        "#     the dataset's vocab. Initializes OOV words with a zero vector.\n",
        "#     '''\n",
        "#     weights_matrix = np.zeros((len(word_vocab), 300))\n",
        "#     words_found = 0\n",
        "#     for i, word in enumerate(word_vocab):\n",
        "#         try:\n",
        "#             weights_matrix[i] = glove_dict[word]\n",
        "#             words_found += 1\n",
        "#         except:\n",
        "#             pass\n",
        "\n",
        "#     return weights_matrix, words_found\n",
        "def create_weights_matrix():\n",
        "  model = BertModel.from_pretrained('bert-base-uncased')\n",
        "  tokenizer = BertTokenizer.from_pretrained('bert-base-uncased')\n",
        "  #encoded_text = tokenizer.encode(tokenized_text)\n",
        "  # with open('/content/drive/MyDrive/Files-NLP/squad_train.json', 'r') as f:\n",
        "  #   squad_data = json.load(f)\n",
        "  # # print(squad_data)\n",
        "  # # Concatenate all contexts to form a large input text\n",
        "  # input_text = ''\n",
        "  # for article in squad_data['data']:\n",
        "  #     for paragraph in article['paragraphs']:\n",
        "  #         input_text += paragraph['context'] + ' '\n",
        "  # # Tokenize the input text\n",
        "  # tokenized_text = tokenizer.tokenize(input_text)\n",
        "\n",
        "  # # Pass the tokenized input through the BERT model to obtain the embeddings\n",
        "  # with torch.no_grad():\n",
        "  #     encoded_text = tokenizer.encode(tokenized_text, add_special_tokens=False, return_tensors='pt')\n",
        "  #     bert_embeddings = bert_model(encoded_text)[0].numpy()\n",
        "\n",
        "  # Create a weight matrix using the BERT embeddings\n",
        "  num_words = len(word_vocab)\n",
        "  embedding_dim = model.config.hidden_size\n",
        "  #weights_matrix = np.zeros((num_words, embedding_dim))\n",
        "  weights_matrix = np.zeros((num_words, embedding_dim))\n",
        "\n",
        "  #linear_layer = torch.nn.Linear(768, 300)\n",
        "\n",
        "\n",
        "  # iterate over the words and obtain their embeddings\n",
        "  for i, word in enumerate(word_vocab):\n",
        "    # Tokenize the word using the BERT tokenizer\n",
        "    tokenized_word = tokenizer.encode(word, add_special_tokens=False)\n",
        "\n",
        "    # Convert the tokenized word to a PyTorch tensor\n",
        "    input_ids = torch.tensor(tokenized_word).unsqueeze(0).long()\n",
        "\n",
        "    # Get the embeddings from the BERT model\n",
        "    with torch.no_grad():\n",
        "      try:\n",
        "        outputs = model(input_ids)\n",
        "        #embeddings = outputs[0][:, 0, :]\n",
        "        embeddings = outputs[0].mean(dim=1)\n",
        "\n",
        "      except Exception as e:\n",
        "        print(\"error\")\n",
        "        print(e)\n",
        "        print(f\"word is:{word}\")\n",
        "        #print(f\"outputs:{outputs}\")\n",
        "        \n",
        "    \n",
        "    # Apply the linear layer to reduce the dimensionality of the embeddings\n",
        "    #reduced_embeddings = linear_layer(embeddings).detach().numpy()\n",
        "\n",
        "    # Add the embeddings to the dictionary\n",
        "    weights_matrix[i] = embeddings\n",
        "    #weights_matrix[i] = embeddings.numpy()\n",
        "  return weights_matrix"
      ]
    },
    {
      "cell_type": "code",
      "execution_count": null,
      "id": "ae386a76",
      "metadata": {
        "execution": {
          "iopub.execute_input": "2023-05-15T23:57:22.141279Z",
          "iopub.status.busy": "2023-05-15T23:57:22.140469Z",
          "iopub.status.idle": "2023-05-15T23:57:22.240731Z",
          "shell.execute_reply": "2023-05-15T23:57:22.239874Z"
        },
        "id": "ae386a76",
        "papermill": {
          "duration": 0.1203,
          "end_time": "2023-05-15T23:57:22.242955",
          "exception": false,
          "start_time": "2023-05-15T23:57:22.122655",
          "status": "completed"
        },
        "tags": []
      },
      "outputs": [],
      "source": [
        "# weights_matrix = create_weights_matrix()\n",
        "# # # print(\"Words found in the GloVe vocab: \" ,words_found)"
      ]
    },
    {
      "cell_type": "code",
      "execution_count": null,
      "id": "15ab21a4",
      "metadata": {
        "execution": {
          "iopub.execute_input": "2023-05-15T23:57:22.278176Z",
          "iopub.status.busy": "2023-05-15T23:57:22.277859Z",
          "iopub.status.idle": "2023-05-15T23:57:22.377264Z",
          "shell.execute_reply": "2023-05-15T23:57:22.376431Z"
        },
        "id": "15ab21a4",
        "papermill": {
          "duration": 0.119275,
          "end_time": "2023-05-15T23:57:22.379245",
          "exception": false,
          "start_time": "2023-05-15T23:57:22.259970",
          "status": "completed"
        },
        "tags": []
      },
      "outputs": [],
      "source": [
        "# weights_matrix.shape"
      ]
    },
    {
      "cell_type": "code",
      "execution_count": null,
      "id": "fca56176",
      "metadata": {
        "execution": {
          "iopub.execute_input": "2023-05-15T23:57:22.414392Z",
          "iopub.status.busy": "2023-05-15T23:57:22.414109Z",
          "iopub.status.idle": "2023-05-15T23:57:22.513053Z",
          "shell.execute_reply": "2023-05-15T23:57:22.512195Z"
        },
        "id": "fca56176",
        "papermill": {
          "duration": 0.118911,
          "end_time": "2023-05-15T23:57:22.515090",
          "exception": false,
          "start_time": "2023-05-15T23:57:22.396179",
          "status": "completed"
        },
        "tags": []
      },
      "outputs": [],
      "source": [
        "# # # # save the weight matrix for future loading.\n",
        "# # # # This matrix is the nn.Embedding's weight matrix.\n",
        "\n",
        "# np.save('qanetbert_vt_300_all.npy', weights_matrix)"
      ]
    },
    {
      "cell_type": "code",
      "execution_count": null,
      "id": "acd0e584",
      "metadata": {
        "execution": {
          "iopub.execute_input": "2023-05-15T23:57:22.550694Z",
          "iopub.status.busy": "2023-05-15T23:57:22.549969Z",
          "iopub.status.idle": "2023-05-15T23:57:22.650218Z",
          "shell.execute_reply": "2023-05-15T23:57:22.649336Z"
        },
        "id": "acd0e584",
        "papermill": {
          "duration": 0.120267,
          "end_time": "2023-05-15T23:57:22.652371",
          "exception": false,
          "start_time": "2023-05-15T23:57:22.532104",
          "status": "completed"
        },
        "tags": []
      },
      "outputs": [],
      "source": [
        "# word_vocab"
      ]
    },
    {
      "cell_type": "markdown",
      "id": "c4093806",
      "metadata": {
        "id": "c4093806",
        "papermill": {
          "duration": 0.016576,
          "end_time": "2023-05-15T23:57:22.686286",
          "exception": false,
          "start_time": "2023-05-15T23:57:22.669710",
          "status": "completed"
        },
        "tags": []
      },
      "source": [
        "## Model"
      ]
    },
    {
      "cell_type": "code",
      "execution_count": null,
      "id": "dcf30c29",
      "metadata": {
        "execution": {
          "iopub.execute_input": "2023-05-15T23:57:22.721314Z",
          "iopub.status.busy": "2023-05-15T23:57:22.720806Z",
          "iopub.status.idle": "2023-05-15T23:57:22.826672Z",
          "shell.execute_reply": "2023-05-15T23:57:22.825814Z"
        },
        "id": "dcf30c29",
        "papermill": {
          "duration": 0.125725,
          "end_time": "2023-05-15T23:57:22.828843",
          "exception": false,
          "start_time": "2023-05-15T23:57:22.703118",
          "status": "completed"
        },
        "tags": []
      },
      "outputs": [],
      "source": [
        "class DepthwiseSeparableConvolution(nn.Module):\n",
        "    \n",
        "    def __init__(self, in_channels, out_channels, kernel_size, dim=1):\n",
        "        \n",
        "        super().__init__()\n",
        "        self.dim = dim\n",
        "        if dim == 2:\n",
        "            \n",
        "            self.depthwise_conv = nn.Conv2d(in_channels=in_channels, out_channels=in_channels,\n",
        "                                        kernel_size=kernel_size, groups=in_channels, padding=kernel_size//2)\n",
        "        \n",
        "            self.pointwise_conv = nn.Conv2d(in_channels, out_channels, kernel_size=1, padding=0)\n",
        "        \n",
        "    \n",
        "        else:\n",
        "        \n",
        "            self.depthwise_conv = nn.Conv1d(in_channels=in_channels, out_channels=in_channels,\n",
        "                                            kernel_size=kernel_size, groups=in_channels, padding=kernel_size//2,\n",
        "                                            bias=False)\n",
        "\n",
        "            self.pointwise_conv = nn.Conv1d(in_channels, out_channels, kernel_size=1, padding=0, bias=True)\n",
        "\n",
        "    \n",
        "    def forward(self, x):\n",
        "        # x = [bs, seq_len, emb_dim]\n",
        "        if self.dim == 1:\n",
        "            x = x.transpose(1,2)\n",
        "            x = self.pointwise_conv(self.depthwise_conv(x))\n",
        "            x = x.transpose(1,2)\n",
        "        else:\n",
        "            x = self.pointwise_conv(self.depthwise_conv(x))\n",
        "        #print(\"DepthWiseConv output: \", x.shape)\n",
        "        return x"
      ]
    },
    {
      "cell_type": "code",
      "execution_count": null,
      "id": "7ee53d30",
      "metadata": {
        "execution": {
          "iopub.execute_input": "2023-05-15T23:57:22.864231Z",
          "iopub.status.busy": "2023-05-15T23:57:22.863925Z",
          "iopub.status.idle": "2023-05-15T23:57:22.966754Z",
          "shell.execute_reply": "2023-05-15T23:57:22.965945Z"
        },
        "id": "7ee53d30",
        "papermill": {
          "duration": 0.122799,
          "end_time": "2023-05-15T23:57:22.968779",
          "exception": false,
          "start_time": "2023-05-15T23:57:22.845980",
          "status": "completed"
        },
        "tags": []
      },
      "outputs": [],
      "source": [
        "\n",
        "class HighwayLayer(nn.Module):\n",
        "    \n",
        "    def __init__(self, layer_dim, num_layers=2):\n",
        "    \n",
        "        super().__init__()\n",
        "        self.num_layers = num_layers\n",
        "        \n",
        "        self.flow_layers = nn.ModuleList([nn.Linear(layer_dim, layer_dim) for _ in range(num_layers)])\n",
        "        self.gate_layers = nn.ModuleList([nn.Linear(layer_dim, layer_dim) for _ in range(num_layers)])\n",
        "    \n",
        "    def forward(self, x):\n",
        "        #print(\"Highway input: \", x.shape)\n",
        "        for i in range(self.num_layers):\n",
        "            \n",
        "            flow = self.flow_layers[i](x)\n",
        "            gate = torch.sigmoid(self.gate_layers[i](x))\n",
        "            \n",
        "            x = gate * flow + (1 - gate) * x\n",
        "            \n",
        "        #print(\"Highway output: \", x.shape)\n",
        "        return x"
      ]
    },
    {
      "cell_type": "code",
      "execution_count": null,
      "id": "a540cda0",
      "metadata": {
        "execution": {
          "iopub.execute_input": "2023-05-15T23:57:23.004019Z",
          "iopub.status.busy": "2023-05-15T23:57:23.003732Z",
          "iopub.status.idle": "2023-05-15T23:57:23.107539Z",
          "shell.execute_reply": "2023-05-15T23:57:23.106744Z"
        },
        "id": "a540cda0",
        "papermill": {
          "duration": 0.123501,
          "end_time": "2023-05-15T23:57:23.109456",
          "exception": false,
          "start_time": "2023-05-15T23:57:22.985955",
          "status": "completed"
        },
        "tags": []
      },
      "outputs": [],
      "source": [
        "class EmbeddingLayer(nn.Module):\n",
        "    \n",
        "    def __init__(self, char_vocab_dim, char_emb_dim, kernel_size, device):\n",
        "        \n",
        "        super().__init__()\n",
        "        \n",
        "        self.device = device\n",
        "        \n",
        "        self.char_embedding = nn.Embedding(char_vocab_dim, char_emb_dim)\n",
        "        \n",
        "        self.word_embedding = self.get_glove_word_embedding()\n",
        "        \n",
        "        self.conv2d = DepthwiseSeparableConvolution(char_emb_dim, char_emb_dim, kernel_size,dim=2)\n",
        "        \n",
        "        self.highway = HighwayLayer(self.word_emb_dim + char_emb_dim)\n",
        "    \n",
        "        \n",
        "    def get_glove_word_embedding(self):\n",
        "        \n",
        "        #weights_matrix = np.load('/content/qanetbert_vt_300.npy')\n",
        "        #weights_matrix = np.load('/kaggle/input/qanetdata/qanetbert_vt_300.npy')\n",
        "        weights_matrix = np.load('/kaggle/input/bert300all/qanetbert_vt_300_all.npy')\n",
        "\n",
        "        # print(\"Weights matrix loaded...\")\n",
        "        num_embeddings, embedding_dim = weights_matrix.shape\n",
        "        # print(f\"Num embeddings : {num_embeddings}\")\n",
        "        self.word_emb_dim = embedding_dim\n",
        "        embedding = nn.Embedding.from_pretrained(torch.FloatTensor(weights_matrix).to(self.device),freeze=True)\n",
        "        # print(embedding)\n",
        "        print(\"Got embeddings...\")\n",
        "\n",
        "        return embedding\n",
        "    \n",
        "    def forward(self, x, x_char):\n",
        "        # x = [bs, seq_len]\n",
        "        # x_char = [bs, seq_len, word_len(=16)]\n",
        "        \n",
        "        word_emb = self.word_embedding(x)\n",
        "        # print(word_emb)\n",
        "        # word_emb = [bs, seq_len, word_emb_dim]\n",
        "        \n",
        "        word_emb = F.dropout(word_emb,p=0.1)\n",
        "        \n",
        "        char_emb = self.char_embedding(x_char)\n",
        "        # char_embed = [bs, seq_len, word_len, char_emb_dim]\n",
        "        \n",
        "        char_emb = F.dropout(char_emb.permute(0,3,1,2), p=0.05)\n",
        "        # [bs, char_emb_dim, seq_len, word_len] == [N, Cin, Hin, Win]\n",
        "        \n",
        "        conv_out = F.relu(self.conv2d(char_emb))\n",
        "        # [bs, char_emb_dim, seq_len, word_len] \n",
        "        # the depthwise separable conv does not change the shape of the input\n",
        "        \n",
        "        char_emb, _ = torch.max(conv_out, dim=3)\n",
        "        # [bs, char_emb_dim, seq_len]\n",
        "        \n",
        "        char_emb = char_emb.permute(0,2,1)\n",
        "        # [bs, seq_len, char_emb_dim]\n",
        "        \n",
        "        concat_emb = torch.cat([char_emb, word_emb], dim=2)\n",
        "        # [bs, seq_len, char_emb_dim + word_emb_dim]\n",
        "        \n",
        "        emb = self.highway(concat_emb)\n",
        "        # [bs, seq_len, char_emb_dim + word_emb_dim]\n",
        "        \n",
        "        #print(\"Embedding output: \", emb.shape)\n",
        "        return emb"
      ]
    },
    {
      "cell_type": "code",
      "execution_count": null,
      "id": "7b9f2629",
      "metadata": {
        "execution": {
          "iopub.execute_input": "2023-05-15T23:57:23.144334Z",
          "iopub.status.busy": "2023-05-15T23:57:23.144065Z",
          "iopub.status.idle": "2023-05-15T23:57:23.248340Z",
          "shell.execute_reply": "2023-05-15T23:57:23.247553Z"
        },
        "id": "7b9f2629",
        "papermill": {
          "duration": 0.124125,
          "end_time": "2023-05-15T23:57:23.250406",
          "exception": false,
          "start_time": "2023-05-15T23:57:23.126281",
          "status": "completed"
        },
        "tags": []
      },
      "outputs": [],
      "source": [
        "class MultiheadAttentionLayer(nn.Module):\n",
        "    \n",
        "    def __init__(self, hid_dim, num_heads, device):\n",
        "        \n",
        "        super().__init__()\n",
        "        self.num_heads = num_heads\n",
        "        self.device = device\n",
        "        self.hid_dim = hid_dim\n",
        "        \n",
        "        self.head_dim = self.hid_dim // self.num_heads\n",
        "        \n",
        "        self.fc_q = nn.Linear(hid_dim, hid_dim)\n",
        "        \n",
        "        self.fc_k = nn.Linear(hid_dim, hid_dim)\n",
        "        \n",
        "        self.fc_v = nn.Linear(hid_dim, hid_dim)\n",
        "        \n",
        "        self.fc_o = nn.Linear(hid_dim, hid_dim)\n",
        "        \n",
        "        self.scale = torch.sqrt(torch.FloatTensor([self.head_dim])).to(device)\n",
        "        \n",
        "        \n",
        "    def forward(self, x, mask):\n",
        "        # x = [bs, len_x, hid_dim]\n",
        "        # mask = [bs, len_x]\n",
        "        \n",
        "        batch_size = x.shape[0]\n",
        "        \n",
        "        Q = self.fc_q(x)\n",
        "        K = self.fc_k(x)\n",
        "        V = self.fc_v(x)\n",
        "        # Q = K = V = [bs, len_x, hid_dim]\n",
        "        \n",
        "        Q = Q.view(batch_size, -1, self.num_heads, self.head_dim).permute(0,2,1,3)\n",
        "        K = K.view(batch_size, -1, self.num_heads, self.head_dim).permute(0,2,1,3)\n",
        "        V = V.view(batch_size, -1, self.num_heads, self.head_dim).permute(0,2,1,3)\n",
        "        # [bs, len_x, num_heads, head_dim ]  => [bs, num_heads, len_x, head_dim]\n",
        "        \n",
        "        K = K.permute(0,1,3,2)\n",
        "        # [bs, num_heads, head_dim, len_x]\n",
        "        \n",
        "        energy = torch.matmul(Q, K) / self.scale\n",
        "        # (bs, num_heads){[len_x, head_dim] * [head_dim, len_x]} => [bs, num_heads, len_x, len_x]\n",
        "        \n",
        "        mask = mask.unsqueeze(1).unsqueeze(2)\n",
        "        # [bs, 1, 1, len_x]\n",
        "        \n",
        "        #print(\"Mask: \", mask)\n",
        "        #print(\"Energy: \", energy)\n",
        "        \n",
        "        energy = energy.masked_fill(mask == 1, -1e10)\n",
        "        \n",
        "        #print(\"energy after masking: \", energy)\n",
        "        \n",
        "        alpha = torch.softmax(energy, dim=-1)\n",
        "        #  [bs, num_heads, len_x, len_x]\n",
        "        \n",
        "        #print(\"energy after smax: \", alpha)\n",
        "        alpha = F.dropout(alpha, p=0.1)\n",
        "        \n",
        "        a = torch.matmul(alpha, V)\n",
        "        # [bs, num_heads, len_x, head_dim]\n",
        "        \n",
        "        a = a.permute(0,2,1,3)\n",
        "        # [bs, len_x, num_heads, hid_dim]\n",
        "        \n",
        "        a = a.contiguous().view(batch_size, -1, self.hid_dim)\n",
        "        # [bs, len_x, hid_dim]\n",
        "        \n",
        "        a = self.fc_o(a)\n",
        "        # [bs, len_x, hid_dim]\n",
        "        \n",
        "        #print(\"Multihead output: \", a.shape)\n",
        "        return a"
      ]
    },
    {
      "cell_type": "code",
      "execution_count": null,
      "id": "f39f087f",
      "metadata": {
        "execution": {
          "iopub.execute_input": "2023-05-15T23:57:23.285248Z",
          "iopub.status.busy": "2023-05-15T23:57:23.284982Z",
          "iopub.status.idle": "2023-05-15T23:57:23.380748Z",
          "shell.execute_reply": "2023-05-15T23:57:23.379944Z"
        },
        "id": "f39f087f",
        "papermill": {
          "duration": 0.115588,
          "end_time": "2023-05-15T23:57:23.382849",
          "exception": false,
          "start_time": "2023-05-15T23:57:23.267261",
          "status": "completed"
        },
        "tags": []
      },
      "outputs": [],
      "source": [
        "from torch.autograd import Variable\n",
        "import math"
      ]
    },
    {
      "cell_type": "code",
      "execution_count": null,
      "id": "8a6ed4be",
      "metadata": {
        "execution": {
          "iopub.execute_input": "2023-05-15T23:57:23.417988Z",
          "iopub.status.busy": "2023-05-15T23:57:23.417676Z",
          "iopub.status.idle": "2023-05-15T23:57:23.520481Z",
          "shell.execute_reply": "2023-05-15T23:57:23.519656Z"
        },
        "id": "8a6ed4be",
        "papermill": {
          "duration": 0.122694,
          "end_time": "2023-05-15T23:57:23.522660",
          "exception": false,
          "start_time": "2023-05-15T23:57:23.399966",
          "status": "completed"
        },
        "tags": []
      },
      "outputs": [],
      "source": [
        "class PositionEncoder(nn.Module):\n",
        "    \n",
        "    def __init__(self, model_dim, device, max_length=400):\n",
        "        \n",
        "        super().__init__()\n",
        "        \n",
        "        self.device = device\n",
        "        \n",
        "        self.model_dim = model_dim\n",
        "        \n",
        "        pos_encoding = torch.zeros(max_length, model_dim)\n",
        "        \n",
        "        for pos in range(max_length):\n",
        "            \n",
        "            for i in range(0, model_dim, 2):\n",
        "                \n",
        "                pos_encoding[pos, i] = math.sin(pos / (10000 ** ((2*i)/model_dim)))\n",
        "                pos_encoding[pos, i+1] = math.cos(pos / (10000 ** ((2*(i+1))/model_dim)))\n",
        "            \n",
        "        \n",
        "        pos_encoding = pos_encoding.unsqueeze(0).to(device)\n",
        "        self.register_buffer('pos_encoding', pos_encoding)\n",
        "        \n",
        "    \n",
        "    def forward(self, x):\n",
        "        #print(\"PE shape: \", self.pos_encoding.shape)\n",
        "        #print(\"PE input: \", x.shape)\n",
        "        x = x + Variable(self.pos_encoding[:, :x.shape[1]], requires_grad=False)\n",
        "        #print(\"PE output: \", x.shape)\n",
        "        return x"
      ]
    },
    {
      "cell_type": "code",
      "execution_count": null,
      "id": "d78105e7",
      "metadata": {
        "execution": {
          "iopub.execute_input": "2023-05-15T23:57:23.558087Z",
          "iopub.status.busy": "2023-05-15T23:57:23.557795Z",
          "iopub.status.idle": "2023-05-15T23:57:23.662748Z",
          "shell.execute_reply": "2023-05-15T23:57:23.661935Z"
        },
        "id": "d78105e7",
        "papermill": {
          "duration": 0.125152,
          "end_time": "2023-05-15T23:57:23.664985",
          "exception": false,
          "start_time": "2023-05-15T23:57:23.539833",
          "status": "completed"
        },
        "tags": []
      },
      "outputs": [],
      "source": [
        "class EncoderBlock(nn.Module):\n",
        "    \n",
        "    def __init__(self, model_dim, num_heads, num_conv_layers, kernel_size, device):\n",
        "        \n",
        "        super().__init__()\n",
        "        \n",
        "        self.num_conv_layers = num_conv_layers\n",
        "        \n",
        "        self.conv_layers = nn.ModuleList([DepthwiseSeparableConvolution(model_dim, model_dim, kernel_size)\n",
        "                                          for _ in range(num_conv_layers)])\n",
        "        \n",
        "        self.multihead_self_attn = MultiheadAttentionLayer(model_dim, num_heads, device)\n",
        "        \n",
        "        self.position_encoder = PositionEncoder(model_dim, device)\n",
        "        \n",
        "        self.pos_norm = nn.LayerNorm(model_dim)\n",
        "        \n",
        "        self.conv_norm = nn.ModuleList([nn.LayerNorm(model_dim) for _ in range(self.num_conv_layers)])\n",
        "        \n",
        "        self.feedfwd_norm = nn.LayerNorm(model_dim)\n",
        "        \n",
        "        self.feed_fwd = nn.Linear(model_dim, model_dim)\n",
        "        \n",
        "    def forward(self, x, mask):\n",
        "        # x = [bs, len_x, model_dim]\n",
        "        # mask = [bs, len_x]\n",
        "        \n",
        "        out = self.position_encoder(x)\n",
        "        # [bs, len_x, model_dim]\n",
        "        \n",
        "        res = out\n",
        "        \n",
        "        out = self.pos_norm(out)\n",
        "        # [bs, len_x, model_dim]\n",
        "        \n",
        "        for i, conv_layer in enumerate(self.conv_layers):\n",
        "            \n",
        "            out = F.relu(conv_layer(out))\n",
        "            out = out + res\n",
        "            if (i+1) % 2 == 0:\n",
        "                out = F.dropout(out, p=0.1)\n",
        "            res = out\n",
        "            out = self.conv_norm[i](out)\n",
        "        \n",
        "        \n",
        "        out = self.multihead_self_attn(out, mask)\n",
        "        # [bs, len_x, model_dim]\n",
        "        \n",
        "        out = F.dropout(out + res, p=0.1)\n",
        "        \n",
        "        res = out\n",
        "        \n",
        "        out = self.feedfwd_norm(out)\n",
        "        \n",
        "        out = F.relu(self.feed_fwd(out))\n",
        "        # [bs, len_x, model_dim]\n",
        "            \n",
        "        out = F.dropout(out + res, p=0.1)\n",
        "        # [bs, len_x, model_dim]\n",
        "        #print(\"Encoder block output: \", out.shape)\n",
        "        return out"
      ]
    },
    {
      "cell_type": "code",
      "execution_count": null,
      "id": "1db322d1",
      "metadata": {
        "execution": {
          "iopub.execute_input": "2023-05-15T23:57:23.700134Z",
          "iopub.status.busy": "2023-05-15T23:57:23.699840Z",
          "iopub.status.idle": "2023-05-15T23:57:23.803331Z",
          "shell.execute_reply": "2023-05-15T23:57:23.802517Z"
        },
        "id": "1db322d1",
        "papermill": {
          "duration": 0.123367,
          "end_time": "2023-05-15T23:57:23.805312",
          "exception": false,
          "start_time": "2023-05-15T23:57:23.681945",
          "status": "completed"
        },
        "tags": []
      },
      "outputs": [],
      "source": [
        "class ContextQueryAttentionLayer(nn.Module):\n",
        "    \n",
        "    def __init__(self, model_dim):\n",
        "        \n",
        "        super().__init__() \n",
        "        \n",
        "        self.W0 = nn.Linear(3*model_dim, 1, bias=False)\n",
        "        \n",
        "    def forward(self, C, Q, c_mask, q_mask):\n",
        "        # C = [bs, ctx_len, model_dim]\n",
        "        # Q = [bs, qtn_len, model_dim]\n",
        "        # c_mask = [bs, ctx_len]\n",
        "        # q_mask = [bs, qtn_len]\n",
        "        \n",
        "        c_mask = c_mask.unsqueeze(2)\n",
        "        # [bs, ctx_len, 1]\n",
        "        \n",
        "        q_mask = q_mask.unsqueeze(1)\n",
        "        # [bs, 1, qtn_len]\n",
        "        \n",
        "        ctx_len = C.shape[1]\n",
        "        qtn_len = Q.shape[1]\n",
        "        \n",
        "        C_ = C.unsqueeze(2).repeat(1,1,qtn_len,1)\n",
        "        # [bs, ctx_len, qtn_len, model_dim] \n",
        "        \n",
        "        Q_ = Q.unsqueeze(1).repeat(1,ctx_len,1,1)\n",
        "        # [bs, ctx_len, qtn_len, model_dim]\n",
        "        \n",
        "        C_elemwise_Q = torch.mul(C_, Q_)\n",
        "        # [bs, ctx_len, qtn_len, model_dim]\n",
        "        \n",
        "        S = torch.cat([C_, Q_, C_elemwise_Q], dim=3)\n",
        "        # [bs, ctx_len, qtn_len, model_dim*3]\n",
        "        \n",
        "        S = self.W0(S).squeeze()\n",
        "        #print(\"Simi matrix: \", S.shape)\n",
        "        # [bs, ctx_len, qtn_len, 1] => # [bs, ctx_len, qtn_len]\n",
        "        \n",
        "        S_row = S.masked_fill(q_mask==1, -1e10)\n",
        "        S_row = F.softmax(S_row, dim=2)\n",
        "        \n",
        "        S_col = S.masked_fill(c_mask==1, -1e10)\n",
        "        S_col = F.softmax(S_col, dim=1)\n",
        "        \n",
        "        A = torch.bmm(S_row, Q)\n",
        "        # (bs)[ctx_len, qtn_len] X [qtn_len, model_dim] => [bs, ctx_len, model_dim]\n",
        "        \n",
        "        B = torch.bmm(torch.bmm(S_row,S_col.transpose(1,2)), C)\n",
        "        # [ctx_len, qtn_len] X [qtn_len, ctx_len] => [bs, ctx_len, ctx_len]\n",
        "        # [ctx_len, ctx_len] X [ctx_len, model_dim ] => [bs, ctx_len, model_dim]\n",
        "        \n",
        "        model_out = torch.cat([C, A, torch.mul(C,A), torch.mul(C,B)], dim=2)\n",
        "        # [bs, ctx_len, model_dim*4]\n",
        "        \n",
        "        #print(\"C2Q output: \", model_out.shape)\n",
        "        return F.dropout(model_out, p=0.1)\n",
        "        \n",
        "        "
      ]
    },
    {
      "cell_type": "code",
      "execution_count": null,
      "id": "2f6e5505",
      "metadata": {
        "execution": {
          "iopub.execute_input": "2023-05-15T23:57:23.840437Z",
          "iopub.status.busy": "2023-05-15T23:57:23.839703Z",
          "iopub.status.idle": "2023-05-15T23:57:23.943931Z",
          "shell.execute_reply": "2023-05-15T23:57:23.943121Z"
        },
        "id": "2f6e5505",
        "papermill": {
          "duration": 0.123765,
          "end_time": "2023-05-15T23:57:23.945897",
          "exception": false,
          "start_time": "2023-05-15T23:57:23.822132",
          "status": "completed"
        },
        "tags": []
      },
      "outputs": [],
      "source": [
        "class OutputLayer(nn.Module):\n",
        "    \n",
        "    def __init__(self, model_dim):\n",
        "        \n",
        "        super().__init__()\n",
        "        \n",
        "        self.W1 = nn.Linear(2*model_dim, 1, bias=False)\n",
        "        \n",
        "        self.W2 = nn.Linear(2*model_dim, 1, bias=False)\n",
        "        \n",
        "        \n",
        "    def forward(self, M1, M2, M3, c_mask):\n",
        "        \n",
        "        start = torch.cat([M1,M2], dim=2)\n",
        "        \n",
        "        start = self.W1(start).squeeze()\n",
        "        \n",
        "        p1 = start.masked_fill(c_mask==1, -1e10)\n",
        "        \n",
        "        #p1 = F.log_softmax(start.masked_fill(c_mask==1, -1e10), dim=1)\n",
        "        \n",
        "        end = torch.cat([M1, M3], dim=2)\n",
        "        \n",
        "        end = self.W2(end).squeeze()\n",
        "        \n",
        "        p2 = end.masked_fill(c_mask==1, -1e10)\n",
        "        \n",
        "        #p2 = F.log_softmax(end.masked_fill(c_mask==1, -1e10), dim=1)\n",
        "        \n",
        "        #print(\"preds: \", [p1.shape,p2.shape])\n",
        "        return p1, p2\n",
        "        "
      ]
    },
    {
      "cell_type": "code",
      "execution_count": null,
      "id": "a9f16c26",
      "metadata": {
        "execution": {
          "iopub.execute_input": "2023-05-15T23:57:23.981026Z",
          "iopub.status.busy": "2023-05-15T23:57:23.980680Z",
          "iopub.status.idle": "2023-05-15T23:57:24.085310Z",
          "shell.execute_reply": "2023-05-15T23:57:24.084519Z"
        },
        "id": "a9f16c26",
        "papermill": {
          "duration": 0.12454,
          "end_time": "2023-05-15T23:57:24.087309",
          "exception": false,
          "start_time": "2023-05-15T23:57:23.962769",
          "status": "completed"
        },
        "tags": []
      },
      "outputs": [],
      "source": [
        "class QANet(nn.Module):\n",
        "    \n",
        "    def __init__(self, char_vocab_dim, char_emb_dim, word_emb_dim, kernel_size, model_dim, num_heads, device):\n",
        "        \n",
        "        super().__init__()\n",
        "        \n",
        "        self.embedding = EmbeddingLayer(char_vocab_dim, char_emb_dim, kernel_size, device)\n",
        "        \n",
        "        self.ctx_resizer = DepthwiseSeparableConvolution(char_emb_dim+word_emb_dim, model_dim, 5)\n",
        "        \n",
        "        self.qtn_resizer = DepthwiseSeparableConvolution(char_emb_dim+word_emb_dim, model_dim, 5)\n",
        "        \n",
        "        self.embedding_encoder = EncoderBlock(model_dim, num_heads, 4, 5, device)\n",
        "        \n",
        "        self.c2q_attention = ContextQueryAttentionLayer(model_dim)\n",
        "        \n",
        "        self.c2q_resizer = DepthwiseSeparableConvolution(model_dim*4, model_dim, 5)\n",
        "        \n",
        "        self.model_encoder_layers = nn.ModuleList([EncoderBlock(model_dim, num_heads, 2, 5, device)\n",
        "                                                   for _ in range(7)])\n",
        "        \n",
        "        self.output = OutputLayer(model_dim)\n",
        "        \n",
        "        self.device=device\n",
        "    \n",
        "    def forward(self, ctx, qtn, ctx_char, qtn_char):\n",
        "        \n",
        "        c_mask = torch.eq(ctx, 1).float().to(self.device)\n",
        "        q_mask = torch.eq(qtn, 1).float().to(self.device)\n",
        "        \n",
        "        ctx_emb = self.embedding(ctx, ctx_char)\n",
        "        # [bs, ctx_len, ch_emb_dim + word_emb_dim]\n",
        "        \n",
        "        ctx_emb = self.ctx_resizer(ctx_emb)\n",
        "        #  [bs, ctx_len, model_dim]\n",
        "        \n",
        "        qtn_emb = self.embedding(qtn, qtn_char)\n",
        "        # [bs, ctx_len, ch_emb_dim + word_emb_dim]\n",
        "        \n",
        "        qtn_emb = self.qtn_resizer(qtn_emb)\n",
        "        # [bs, qtn_len, model_dim]\n",
        "        \n",
        "        C = self.embedding_encoder(ctx_emb, c_mask)\n",
        "        # [bs, ctx_len, model_dim]\n",
        "        \n",
        "        Q = self.embedding_encoder(qtn_emb, q_mask)\n",
        "        # [bs, qtn_len, model_dim]\n",
        "            \n",
        "        C2Q = self.c2q_attention(C, Q, c_mask, q_mask)\n",
        "        # [bs, ctx_len, model_dim*4]\n",
        "        \n",
        "        M1 = self.c2q_resizer(C2Q)\n",
        "        # [bs, ctx_len, model_dim]\n",
        "    \n",
        "        for layer in self.model_encoder_layers:\n",
        "            M1 = layer(M1, c_mask)\n",
        "        \n",
        "        M2 = M1\n",
        "        # [bs, ctx_len, model_dim]  \n",
        "        \n",
        "        for layer in self.model_encoder_layers:\n",
        "            M2 = layer(M2, c_mask)\n",
        "        \n",
        "        M3 = M2\n",
        "        # [bs, ctx_len, model_dim]\n",
        "        \n",
        "        for layer in self.model_encoder_layers:\n",
        "            M3 = layer(M3, c_mask)\n",
        "            \n",
        "        p1, p2 = self.output(M1, M2, M3, c_mask)\n",
        "        \n",
        "        return p1, p2"
      ]
    },
    {
      "cell_type": "code",
      "execution_count": null,
      "id": "a233c257",
      "metadata": {
        "execution": {
          "iopub.execute_input": "2023-05-15T23:57:24.122114Z",
          "iopub.status.busy": "2023-05-15T23:57:24.121814Z",
          "iopub.status.idle": "2023-05-15T23:57:34.212674Z",
          "shell.execute_reply": "2023-05-15T23:57:34.211729Z"
        },
        "id": "a233c257",
        "outputId": "77801a36-f595-4884-af63-3534c8399b30",
        "papermill": {
          "duration": 10.111055,
          "end_time": "2023-05-15T23:57:34.215147",
          "exception": false,
          "start_time": "2023-05-15T23:57:24.104092",
          "status": "completed"
        },
        "tags": []
      },
      "outputs": [
        {
          "name": "stdout",
          "output_type": "stream",
          "text": [
            "Got embeddings...\n"
          ]
        }
      ],
      "source": [
        "CHAR_VOCAB_DIM = len(char2idx)\n",
        "CHAR_EMB_DIM = 200\n",
        "WORD_EMB_DIM = 768\n",
        "KERNEL_SIZE = 5\n",
        "MODEL_DIM = 128\n",
        "NUM_ATTENTION_HEADS = 1\n",
        "device = torch.device('cuda')\n",
        "# device = \"cpu\"\n",
        "\n",
        "model = QANet(CHAR_VOCAB_DIM,\n",
        "              CHAR_EMB_DIM, \n",
        "              WORD_EMB_DIM,\n",
        "              KERNEL_SIZE,\n",
        "              MODEL_DIM,\n",
        "              NUM_ATTENTION_HEADS, device).to(device)\n",
        "              \n",
        "# device).to(device)"
      ]
    },
    {
      "cell_type": "code",
      "execution_count": null,
      "id": "be8fb7a3",
      "metadata": {
        "execution": {
          "iopub.execute_input": "2023-05-15T23:57:34.251774Z",
          "iopub.status.busy": "2023-05-15T23:57:34.250313Z",
          "iopub.status.idle": "2023-05-15T23:57:34.354298Z",
          "shell.execute_reply": "2023-05-15T23:57:34.353431Z"
        },
        "id": "be8fb7a3",
        "outputId": "c2d1756b-6a79-4c75-98fd-979318551328",
        "papermill": {
          "duration": 0.12385,
          "end_time": "2023-05-15T23:57:34.356330",
          "exception": false,
          "start_time": "2023-05-15T23:57:34.232480",
          "status": "completed"
        },
        "tags": []
      },
      "outputs": [
        {
          "name": "stdout",
          "output_type": "stream",
          "text": [
            "The model has 5,148,952 trainable parameters\n"
          ]
        }
      ],
      "source": [
        "def count_parameters(model):\n",
        "    return sum(p.numel() for p in model.parameters() if p.requires_grad)\n",
        "print(f'The model has {count_parameters(model):,} trainable parameters')"
      ]
    },
    {
      "cell_type": "markdown",
      "id": "43f8ce66",
      "metadata": {
        "id": "43f8ce66",
        "papermill": {
          "duration": 0.016718,
          "end_time": "2023-05-15T23:57:34.390034",
          "exception": false,
          "start_time": "2023-05-15T23:57:34.373316",
          "status": "completed"
        },
        "tags": []
      },
      "source": [
        "## Training"
      ]
    },
    {
      "cell_type": "markdown",
      "id": "c3123c8e",
      "metadata": {
        "id": "c3123c8e",
        "papermill": {
          "duration": 0.016725,
          "end_time": "2023-05-15T23:57:34.423658",
          "exception": false,
          "start_time": "2023-05-15T23:57:34.406933",
          "status": "completed"
        },
        "tags": []
      },
      "source": [
        "> *We use the ADAM optimizer (Kingma & Ba, 2014) with β1 = 0.8,β2 = 0.999, $\\epsilon$ = 10−7. We use a learning rate warm-up scheme with an inverse exponential increase from 0.0 to 0.001 in the ﬁrst 1000 steps, and then maintain a constant learning rate for the remainder of training.*\n"
      ]
    },
    {
      "cell_type": "code",
      "execution_count": null,
      "id": "5fcc43cb",
      "metadata": {
        "execution": {
          "iopub.execute_input": "2023-05-15T23:57:34.459298Z",
          "iopub.status.busy": "2023-05-15T23:57:34.458480Z",
          "iopub.status.idle": "2023-05-15T23:57:34.559246Z",
          "shell.execute_reply": "2023-05-15T23:57:34.558401Z"
        },
        "id": "5fcc43cb",
        "papermill": {
          "duration": 0.120835,
          "end_time": "2023-05-15T23:57:34.561385",
          "exception": false,
          "start_time": "2023-05-15T23:57:34.440550",
          "status": "completed"
        },
        "tags": []
      },
      "outputs": [],
      "source": [
        "import torch.optim as optim\n",
        "optimizer = optim.Adam(model.parameters(), betas=(0.8,0.999), eps=10e-7, weight_decay=3*10e-7)"
      ]
    },
    {
      "cell_type": "code",
      "execution_count": null,
      "id": "f094bb70",
      "metadata": {
        "execution": {
          "iopub.execute_input": "2023-05-15T23:57:34.597125Z",
          "iopub.status.busy": "2023-05-15T23:57:34.596714Z",
          "iopub.status.idle": "2023-05-15T23:57:34.701746Z",
          "shell.execute_reply": "2023-05-15T23:57:34.700910Z"
        },
        "id": "f094bb70",
        "papermill": {
          "duration": 0.125436,
          "end_time": "2023-05-15T23:57:34.703957",
          "exception": false,
          "start_time": "2023-05-15T23:57:34.578521",
          "status": "completed"
        },
        "tags": []
      },
      "outputs": [],
      "source": [
        "def train(model, train_dataset):\n",
        "    print(\"Starting training ........\")\n",
        "   \n",
        "\n",
        "    train_loss = 0.\n",
        "    batch_count = 0\n",
        "\n",
        "    for batch in train_dataset:\n",
        "\n",
        "        if batch_count % 500 == 0:\n",
        "            print(f\"Starting batch: {batch_count}\")\n",
        "            \n",
        "#         if batch_count >= 50:\n",
        "#             print(f\"Starting batch: {batch_count}\")\n",
        "#             break\n",
        "            \n",
        "        batch_count += 1\n",
        "        \n",
        "        context, question, char_ctx, char_ques, label, ctx_text, ans, ids = batch\n",
        "        \n",
        "        # place data on GPU\n",
        "        context, question, char_ctx, char_ques, label = context.to(device), question.to(device),\\\n",
        "                                    char_ctx.to(device), char_ques.to(device), label.to(device)\n",
        "        \n",
        "        # forward pass, get predictions\n",
        "        preds = model(context, question, char_ctx, char_ques)\n",
        "\n",
        "        start_pred, end_pred = preds\n",
        "        \n",
        "        # separate labels for start and end position\n",
        "        start_label, end_label = label[:,0], label[:,1]\n",
        "        \n",
        "        # calculate loss\n",
        "        loss = F.cross_entropy(start_pred, start_label) + F.cross_entropy(end_pred, end_label)\n",
        "        \n",
        "        # backward pass\n",
        "        loss.backward()\n",
        "        \n",
        "        # update the gradients\n",
        "        optimizer.step()\n",
        "\n",
        "        # zero the gradients so that they do not accumulate\n",
        "        optimizer.zero_grad()\n",
        "\n",
        "        train_loss += loss.item()\n",
        "        \n",
        "\n",
        "    return train_loss/len(train_dataset)\n",
        "    #return train_loss/500\n"
      ]
    },
    {
      "cell_type": "code",
      "execution_count": null,
      "id": "fe3f1544",
      "metadata": {
        "execution": {
          "iopub.execute_input": "2023-05-15T23:57:34.739430Z",
          "iopub.status.busy": "2023-05-15T23:57:34.739147Z",
          "iopub.status.idle": "2023-05-15T23:57:34.845868Z",
          "shell.execute_reply": "2023-05-15T23:57:34.845079Z"
        },
        "id": "fe3f1544",
        "papermill": {
          "duration": 0.126482,
          "end_time": "2023-05-15T23:57:34.847857",
          "exception": false,
          "start_time": "2023-05-15T23:57:34.721375",
          "status": "completed"
        },
        "tags": []
      },
      "outputs": [],
      "source": [
        "def valid(model, valid_dataset):\n",
        "    \n",
        "    print(\"Starting validation .........\")\n",
        "   \n",
        "    valid_loss = 0.\n",
        "\n",
        "    batch_count = 0\n",
        "    \n",
        "    f1, em = 0., 0.\n",
        "    \n",
        "    predictions = {}\n",
        "    \n",
        "    for batch in valid_dataset:\n",
        "\n",
        "        if batch_count % 500 == 0:\n",
        "            print(f\"Starting batch {batch_count}\")\n",
        "        \n",
        "#         if batch_count >= 50:\n",
        "#             print(f\"Starting batch {batch_count}\")\n",
        "#             break\n",
        "            \n",
        "        \n",
        "        batch_count += 1\n",
        "\n",
        "        context, question, char_ctx, char_ques, label, ctx_text, ans, ids = batch\n",
        "\n",
        "        context, question, char_ctx, char_ques, label = context.to(device), question.to(device),\\\n",
        "                                    char_ctx.to(device), char_ques.to(device), label.to(device)\n",
        "\n",
        "        with torch.no_grad():\n",
        "\n",
        "            preds = model(context, question, char_ctx, char_ques)\n",
        "\n",
        "            p1, p2 = preds\n",
        "\n",
        "            y1, y2 = label[:,0], label[:,1]\n",
        "\n",
        "            loss = F.nll_loss(p1, y1) + F.nll_loss(p2, y2)\n",
        "\n",
        "            valid_loss += loss.item()\n",
        "\n",
        "            batch_size, c_len = p1.size()\n",
        "            ls = nn.LogSoftmax(dim=1)\n",
        "            mask = (torch.ones(c_len, c_len) * float('-inf')).to(device).tril(-1).unsqueeze(0).expand(batch_size, -1, -1)\n",
        "            score = (ls(p1).unsqueeze(2) + ls(p2).unsqueeze(1)) + mask\n",
        "            score, s_idx = score.max(dim=1)\n",
        "            score, e_idx = score.max(dim=1)\n",
        "            s_idx = torch.gather(s_idx, 1, e_idx.view(-1, 1)).squeeze()\n",
        "            \n",
        "           \n",
        "            for i in range(batch_size):\n",
        "                id = ids[i]\n",
        "                pred = context[i][s_idx[i]:e_idx[i]+1]\n",
        "                pred = ' '.join([idx2word[idx.item()] for idx in pred])\n",
        "                predictions[id] = pred\n",
        "            \n",
        "            \n",
        "    em, f1 = evaluate(predictions)\n",
        "    return valid_loss/len(valid_dataset), em, f1           \n",
        "  "
      ]
    },
    {
      "cell_type": "code",
      "execution_count": null,
      "id": "de0f80a1",
      "metadata": {
        "execution": {
          "iopub.execute_input": "2023-05-15T23:57:34.883775Z",
          "iopub.status.busy": "2023-05-15T23:57:34.883058Z",
          "iopub.status.idle": "2023-05-15T23:57:34.986237Z",
          "shell.execute_reply": "2023-05-15T23:57:34.985388Z"
        },
        "id": "de0f80a1",
        "papermill": {
          "duration": 0.123247,
          "end_time": "2023-05-15T23:57:34.988235",
          "exception": false,
          "start_time": "2023-05-15T23:57:34.864988",
          "status": "completed"
        },
        "tags": []
      },
      "outputs": [],
      "source": [
        "def evaluate(predictions):\n",
        "    '''\n",
        "    Gets a dictionary of predictions with question_id as key\n",
        "    and prediction as value. The validation dataset has multiple \n",
        "    answers for a single question. Hence we compare our prediction\n",
        "    with all the answers and choose the one that gives us\n",
        "    the maximum metric (em or f1). \n",
        "    This method first parses the JSON file, gets all the answers\n",
        "    for a given id and then passes the list of answers and the \n",
        "    predictions to calculate em, f1.\n",
        "    \n",
        "    \n",
        "    :param dict predictions\n",
        "    Returns\n",
        "    : exact_match: 1 if the prediction and ground truth \n",
        "      match exactly, 0 otherwise.\n",
        "    : f1_score: \n",
        "    '''\n",
        "    with open('/kaggle/input/qanetdata/squad_dev.json','r',encoding='utf-8') as f:\n",
        "        dataset = json.load(f)\n",
        "        \n",
        "    dataset = dataset['data']\n",
        "    f1 = exact_match = total = 0\n",
        "    for article in dataset:\n",
        "        for paragraph in article['paragraphs']:\n",
        "            for qa in paragraph['qas']:\n",
        "                total += 1\n",
        "                if qa['id'] not in predictions:\n",
        "                    continue\n",
        "                \n",
        "                ground_truths = list(map(lambda x: x['text'], qa['answers']))\n",
        "                \n",
        "                prediction = predictions[qa['id']]\n",
        "                \n",
        "                exact_match += metric_max_over_ground_truths(\n",
        "                    exact_match_score, prediction, ground_truths)\n",
        "                \n",
        "                f1 += metric_max_over_ground_truths(\n",
        "                    f1_score, prediction, ground_truths)\n",
        "                \n",
        "    \n",
        "    exact_match = 100.0 * exact_match / total\n",
        "    f1 = 100.0 * f1 / total\n",
        "    \n",
        "    return exact_match, f1\n",
        "\n"
      ]
    },
    {
      "cell_type": "code",
      "execution_count": null,
      "id": "445b79d7",
      "metadata": {
        "execution": {
          "iopub.execute_input": "2023-05-15T23:57:35.023499Z",
          "iopub.status.busy": "2023-05-15T23:57:35.023239Z",
          "iopub.status.idle": "2023-05-15T23:57:35.128427Z",
          "shell.execute_reply": "2023-05-15T23:57:35.127584Z"
        },
        "id": "445b79d7",
        "papermill": {
          "duration": 0.125242,
          "end_time": "2023-05-15T23:57:35.130465",
          "exception": false,
          "start_time": "2023-05-15T23:57:35.005223",
          "status": "completed"
        },
        "tags": []
      },
      "outputs": [],
      "source": [
        "def normalize_answer(s):\n",
        "    '''\n",
        "    Performs a series of cleaning steps on the ground truth and \n",
        "    predicted answer.\n",
        "    '''\n",
        "    def remove_articles(text):\n",
        "        return re.sub(r'\\b(a|an|the)\\b', ' ', text)\n",
        "\n",
        "    def white_space_fix(text):\n",
        "        return ' '.join(text.split())\n",
        "\n",
        "    def remove_punc(text):\n",
        "        exclude = set(string.punctuation)\n",
        "        return ''.join(ch for ch in text if ch not in exclude)\n",
        "\n",
        "    def lower(text):\n",
        "        return text.lower()\n",
        "\n",
        "    return white_space_fix(remove_articles(remove_punc(lower(s))))\n",
        "\n",
        "\n",
        "def metric_max_over_ground_truths(metric_fn, prediction, ground_truths):\n",
        "    '''\n",
        "    Returns maximum value of metrics for predicition by model against\n",
        "    multiple ground truths.\n",
        "    \n",
        "    :param func metric_fn: can be 'exact_match_score' or 'f1_score'\n",
        "    :param str prediction: predicted answer span by the model\n",
        "    :param list ground_truths: list of ground truths against which\n",
        "                               metrics are calculated. Maximum values of \n",
        "                               metrics are chosen.\n",
        "                            \n",
        "    \n",
        "    '''\n",
        "    scores_for_ground_truths = []\n",
        "    for ground_truth in ground_truths:\n",
        "        score = metric_fn(prediction, ground_truth)\n",
        "        scores_for_ground_truths.append(score)\n",
        "        \n",
        "    return max(scores_for_ground_truths)\n",
        "\n",
        "\n",
        "def f1_score(prediction, ground_truth):\n",
        "    '''\n",
        "    Returns f1 score of two strings.\n",
        "    '''\n",
        "    prediction_tokens = normalize_answer(prediction).split()\n",
        "    ground_truth_tokens = normalize_answer(ground_truth).split()\n",
        "    common = Counter(prediction_tokens) & Counter(ground_truth_tokens)\n",
        "    num_same = sum(common.values())\n",
        "    if num_same == 0:\n",
        "        return 0\n",
        "    precision = 1.0 * num_same / len(prediction_tokens)\n",
        "    recall = 1.0 * num_same / len(ground_truth_tokens)\n",
        "    f1 = (2 * precision * recall) / (precision + recall)\n",
        "    return f1\n",
        "\n",
        "\n",
        "def exact_match_score(prediction, ground_truth):\n",
        "    '''\n",
        "    Returns exact_match_score of two strings.\n",
        "    '''\n",
        "    return (normalize_answer(prediction) == normalize_answer(ground_truth))\n",
        "\n",
        "def epoch_time(start_time, end_time):\n",
        "    '''\n",
        "    Helper function to record epoch time.\n",
        "    '''\n",
        "    elapsed_time = end_time - start_time\n",
        "    elapsed_mins = int(elapsed_time / 60)\n",
        "    elapsed_secs = int(elapsed_time - (elapsed_mins * 60))\n",
        "    return elapsed_mins, elapsed_secs"
      ]
    },
    {
      "cell_type": "code",
      "execution_count": null,
      "id": "b2eddafb",
      "metadata": {
        "execution": {
          "iopub.execute_input": "2023-05-15T23:57:35.166837Z",
          "iopub.status.busy": "2023-05-15T23:57:35.166096Z",
          "iopub.status.idle": "2023-05-15T23:57:35.263557Z",
          "shell.execute_reply": "2023-05-15T23:57:35.262705Z"
        },
        "id": "b2eddafb",
        "papermill": {
          "duration": 0.117657,
          "end_time": "2023-05-15T23:57:35.265650",
          "exception": false,
          "start_time": "2023-05-15T23:57:35.147993",
          "status": "completed"
        },
        "tags": []
      },
      "outputs": [],
      "source": [
        "# len(train_dataset)/16,len(valid_dataset)/16\n",
        "\n"
      ]
    },
    {
      "cell_type": "code",
      "execution_count": null,
      "id": "56a0e571",
      "metadata": {
        "execution": {
          "iopub.execute_input": "2023-05-15T23:57:35.301221Z",
          "iopub.status.busy": "2023-05-15T23:57:35.300392Z"
        },
        "id": "56a0e571",
        "outputId": "e6c11bfe-0524-43bc-c9ae-e3248e706777",
        "papermill": {
          "duration": null,
          "end_time": null,
          "exception": false,
          "start_time": "2023-05-15T23:57:35.282702",
          "status": "running"
        },
        "tags": []
      },
      "outputs": [
        {
          "name": "stdout",
          "output_type": "stream",
          "text": [
            "Epoch 1\n",
            "hit\n",
            "Starting training ........\n"
          ]
        },
        {
          "name": "stderr",
          "output_type": "stream",
          "text": [
            "/opt/conda/lib/python3.10/site-packages/spacy/pipeline/lemmatizer.py:211: UserWarning: [W108] The rule-based lemmatizer did not find POS annotation for one or more tokens. Check that your pipeline includes components that assign token.pos, typically 'tagger'+'attribute_ruler' or 'morphologizer'.\n",
            "  warnings.warn(Warnings.W108)\n"
          ]
        },
        {
          "name": "stdout",
          "output_type": "stream",
          "text": [
            "Starting batch: 0\n"
          ]
        },
        {
          "name": "stdout",
          "output_type": "stream",
          "text": [
            "Starting batch: 500\n"
          ]
        },
        {
          "name": "stdout",
          "output_type": "stream",
          "text": [
            "Starting batch: 1000\n"
          ]
        },
        {
          "name": "stdout",
          "output_type": "stream",
          "text": [
            "Starting batch: 1500\n"
          ]
        },
        {
          "name": "stdout",
          "output_type": "stream",
          "text": [
            "Starting batch: 2000\n"
          ]
        },
        {
          "name": "stdout",
          "output_type": "stream",
          "text": [
            "Starting batch: 2500\n"
          ]
        },
        {
          "name": "stdout",
          "output_type": "stream",
          "text": [
            "Starting batch: 3000\n"
          ]
        },
        {
          "name": "stdout",
          "output_type": "stream",
          "text": [
            "Starting batch: 3500\n"
          ]
        },
        {
          "name": "stdout",
          "output_type": "stream",
          "text": [
            "Starting batch: 4000\n"
          ]
        },
        {
          "name": "stdout",
          "output_type": "stream",
          "text": [
            "Starting batch: 4500\n"
          ]
        },
        {
          "name": "stdout",
          "output_type": "stream",
          "text": [
            "Starting batch: 5000\n"
          ]
        },
        {
          "name": "stdout",
          "output_type": "stream",
          "text": [
            "Starting validation .........\n"
          ]
        },
        {
          "name": "stdout",
          "output_type": "stream",
          "text": [
            "Starting batch 0\n"
          ]
        },
        {
          "name": "stdout",
          "output_type": "stream",
          "text": [
            "Starting batch 500\n"
          ]
        },
        {
          "name": "stdout",
          "output_type": "stream",
          "text": [
            "Starting batch 1000\n"
          ]
        },
        {
          "name": "stdout",
          "output_type": "stream",
          "text": [
            "Starting batch 1500\n"
          ]
        },
        {
          "name": "stdout",
          "output_type": "stream",
          "text": [
            "Starting batch 2000\n"
          ]
        },
        {
          "name": "stdout",
          "output_type": "stream",
          "text": [
            "Epoch train loss : 8.952268703582883| Time: 72m 31s\n",
            "Epoch valid loss: 0.7911820792238897\n",
            "Epoch EM: 8.684957426679281\n",
            "Epoch F1: 16.637094249372165\n",
            "====================================================================================\n",
            "Epoch 2\n",
            "hit\n",
            "Starting training ........\n"
          ]
        },
        {
          "name": "stdout",
          "output_type": "stream",
          "text": [
            "Starting batch: 0\n"
          ]
        },
        {
          "name": "stdout",
          "output_type": "stream",
          "text": [
            "Starting batch: 500\n"
          ]
        },
        {
          "name": "stdout",
          "output_type": "stream",
          "text": [
            "Starting batch: 1000\n"
          ]
        },
        {
          "name": "stdout",
          "output_type": "stream",
          "text": [
            "Starting batch: 1500\n"
          ]
        },
        {
          "name": "stdout",
          "output_type": "stream",
          "text": [
            "Starting batch: 2000\n"
          ]
        },
        {
          "name": "stdout",
          "output_type": "stream",
          "text": [
            "Starting batch: 2500\n"
          ]
        },
        {
          "name": "stdout",
          "output_type": "stream",
          "text": [
            "Starting batch: 3000\n"
          ]
        },
        {
          "name": "stdout",
          "output_type": "stream",
          "text": [
            "Starting batch: 3500\n"
          ]
        },
        {
          "name": "stdout",
          "output_type": "stream",
          "text": [
            "Starting batch: 4000\n"
          ]
        },
        {
          "name": "stdout",
          "output_type": "stream",
          "text": [
            "Starting batch: 4500\n"
          ]
        },
        {
          "name": "stdout",
          "output_type": "stream",
          "text": [
            "Starting batch: 5000\n"
          ]
        },
        {
          "name": "stdout",
          "output_type": "stream",
          "text": [
            "Starting validation .........\n"
          ]
        },
        {
          "name": "stdout",
          "output_type": "stream",
          "text": [
            "Starting batch 0\n"
          ]
        },
        {
          "name": "stdout",
          "output_type": "stream",
          "text": [
            "Starting batch 500\n"
          ]
        },
        {
          "name": "stdout",
          "output_type": "stream",
          "text": [
            "Starting batch 1000\n"
          ]
        },
        {
          "name": "stdout",
          "output_type": "stream",
          "text": [
            "Starting batch 1500\n"
          ]
        },
        {
          "name": "stdout",
          "output_type": "stream",
          "text": [
            "Starting batch 2000\n"
          ]
        },
        {
          "name": "stdout",
          "output_type": "stream",
          "text": [
            "Epoch train loss : 6.609179128255916| Time: 72m 32s\n",
            "Epoch valid loss: -0.5693741065847902\n",
            "Epoch EM: 13.774834437086092\n",
            "Epoch F1: 22.642530688090808\n",
            "====================================================================================\n",
            "Epoch 3\n",
            "hit\n",
            "Starting training ........\n"
          ]
        },
        {
          "name": "stdout",
          "output_type": "stream",
          "text": [
            "Starting batch: 0\n"
          ]
        },
        {
          "name": "stdout",
          "output_type": "stream",
          "text": [
            "Starting batch: 500\n"
          ]
        },
        {
          "name": "stdout",
          "output_type": "stream",
          "text": [
            "Starting batch: 1000\n"
          ]
        },
        {
          "name": "stdout",
          "output_type": "stream",
          "text": [
            "Starting batch: 1500\n"
          ]
        },
        {
          "name": "stdout",
          "output_type": "stream",
          "text": [
            "Starting batch: 2000\n"
          ]
        },
        {
          "name": "stdout",
          "output_type": "stream",
          "text": [
            "Starting batch: 2500\n"
          ]
        },
        {
          "name": "stdout",
          "output_type": "stream",
          "text": [
            "Starting batch: 3000\n"
          ]
        },
        {
          "name": "stdout",
          "output_type": "stream",
          "text": [
            "Starting batch: 3500\n"
          ]
        },
        {
          "name": "stdout",
          "output_type": "stream",
          "text": [
            "Starting batch: 4000\n"
          ]
        },
        {
          "name": "stdout",
          "output_type": "stream",
          "text": [
            "Starting batch: 4500\n"
          ]
        },
        {
          "name": "stdout",
          "output_type": "stream",
          "text": [
            "Starting batch: 5000\n"
          ]
        },
        {
          "name": "stdout",
          "output_type": "stream",
          "text": [
            "Starting validation .........\n"
          ]
        },
        {
          "name": "stdout",
          "output_type": "stream",
          "text": [
            "Starting batch 0\n"
          ]
        },
        {
          "name": "stdout",
          "output_type": "stream",
          "text": [
            "Starting batch 500\n"
          ]
        },
        {
          "name": "stdout",
          "output_type": "stream",
          "text": [
            "Starting batch 1000\n"
          ]
        },
        {
          "name": "stdout",
          "output_type": "stream",
          "text": [
            "Starting batch 1500\n"
          ]
        },
        {
          "name": "stdout",
          "output_type": "stream",
          "text": [
            "Starting batch 2000\n"
          ]
        },
        {
          "name": "stdout",
          "output_type": "stream",
          "text": [
            "Epoch train loss : 6.085314383927903| Time: 72m 56s\n",
            "Epoch valid loss: -1.5119412317364849\n",
            "Epoch EM: 15.799432355723747\n",
            "Epoch F1: 24.968747331589253\n",
            "====================================================================================\n",
            "Epoch 4\n",
            "hit\n",
            "Starting training ........\n"
          ]
        },
        {
          "name": "stdout",
          "output_type": "stream",
          "text": [
            "Starting batch: 0\n"
          ]
        },
        {
          "name": "stdout",
          "output_type": "stream",
          "text": [
            "Starting batch: 500\n"
          ]
        },
        {
          "name": "stdout",
          "output_type": "stream",
          "text": [
            "Starting batch: 1000\n"
          ]
        },
        {
          "name": "stdout",
          "output_type": "stream",
          "text": [
            "Starting batch: 1500\n"
          ]
        },
        {
          "name": "stdout",
          "output_type": "stream",
          "text": [
            "Starting batch: 2000\n"
          ]
        },
        {
          "name": "stdout",
          "output_type": "stream",
          "text": [
            "Starting batch: 2500\n"
          ]
        },
        {
          "name": "stdout",
          "output_type": "stream",
          "text": [
            "Starting batch: 3000\n"
          ]
        },
        {
          "name": "stdout",
          "output_type": "stream",
          "text": [
            "Starting batch: 3500\n"
          ]
        },
        {
          "name": "stdout",
          "output_type": "stream",
          "text": [
            "Starting batch: 4000\n"
          ]
        },
        {
          "name": "stdout",
          "output_type": "stream",
          "text": [
            "Starting batch: 4500\n"
          ]
        },
        {
          "name": "stdout",
          "output_type": "stream",
          "text": [
            "Starting batch: 5000\n"
          ]
        },
        {
          "name": "stdout",
          "output_type": "stream",
          "text": [
            "Starting validation .........\n"
          ]
        },
        {
          "name": "stdout",
          "output_type": "stream",
          "text": [
            "Starting batch 0\n"
          ]
        },
        {
          "name": "stdout",
          "output_type": "stream",
          "text": [
            "Starting batch 500\n"
          ]
        },
        {
          "name": "stdout",
          "output_type": "stream",
          "text": [
            "Starting batch 1000\n"
          ]
        },
        {
          "name": "stdout",
          "output_type": "stream",
          "text": [
            "Starting batch 1500\n"
          ]
        },
        {
          "name": "stdout",
          "output_type": "stream",
          "text": [
            "Starting batch 2000\n"
          ]
        },
        {
          "name": "stdout",
          "output_type": "stream",
          "text": [
            "Epoch train loss : 5.756133742187668| Time: 72m 11s\n",
            "Epoch valid loss: -0.4124700889376128\n",
            "Epoch EM: 17.105014191106907\n",
            "Epoch F1: 26.608757551654698\n",
            "====================================================================================\n",
            "Epoch 5\n",
            "hit\n",
            "Starting training ........\n"
          ]
        },
        {
          "name": "stdout",
          "output_type": "stream",
          "text": [
            "Starting batch: 0\n"
          ]
        },
        {
          "name": "stdout",
          "output_type": "stream",
          "text": [
            "Starting batch: 500\n"
          ]
        },
        {
          "name": "stdout",
          "output_type": "stream",
          "text": [
            "Starting batch: 1000\n"
          ]
        },
        {
          "name": "stdout",
          "output_type": "stream",
          "text": [
            "Starting batch: 1500\n"
          ]
        },
        {
          "name": "stdout",
          "output_type": "stream",
          "text": [
            "Starting batch: 2000\n"
          ]
        },
        {
          "name": "stdout",
          "output_type": "stream",
          "text": [
            "Starting batch: 2500\n"
          ]
        },
        {
          "name": "stdout",
          "output_type": "stream",
          "text": [
            "Starting batch: 3000\n"
          ]
        },
        {
          "name": "stdout",
          "output_type": "stream",
          "text": [
            "Starting batch: 3500\n"
          ]
        },
        {
          "name": "stdout",
          "output_type": "stream",
          "text": [
            "Starting batch: 4000\n"
          ]
        },
        {
          "name": "stdout",
          "output_type": "stream",
          "text": [
            "Starting batch: 4500\n"
          ]
        },
        {
          "name": "stdout",
          "output_type": "stream",
          "text": [
            "Starting batch: 5000\n"
          ]
        },
        {
          "name": "stdout",
          "output_type": "stream",
          "text": [
            "Starting validation .........\n"
          ]
        },
        {
          "name": "stdout",
          "output_type": "stream",
          "text": [
            "Starting batch 0\n"
          ]
        },
        {
          "name": "stdout",
          "output_type": "stream",
          "text": [
            "Starting batch 500\n"
          ]
        },
        {
          "name": "stdout",
          "output_type": "stream",
          "text": [
            "Starting batch 1000\n"
          ]
        },
        {
          "name": "stdout",
          "output_type": "stream",
          "text": [
            "Starting batch 1500\n"
          ]
        },
        {
          "name": "stdout",
          "output_type": "stream",
          "text": [
            "Starting batch 2000\n"
          ]
        },
        {
          "name": "stdout",
          "output_type": "stream",
          "text": [
            "Epoch train loss : 5.481726421799578| Time: 72m 7s\n",
            "Epoch valid loss: -1.0433240870442329\n",
            "Epoch EM: 19.640491958372753\n",
            "Epoch F1: 28.87996933716677\n",
            "====================================================================================\n",
            "Epoch 6\n",
            "hit\n",
            "Starting training ........\n"
          ]
        },
        {
          "name": "stdout",
          "output_type": "stream",
          "text": [
            "Starting batch: 0\n"
          ]
        },
        {
          "name": "stdout",
          "output_type": "stream",
          "text": [
            "Starting batch: 500\n"
          ]
        },
        {
          "name": "stdout",
          "output_type": "stream",
          "text": [
            "Starting batch: 1000\n"
          ]
        },
        {
          "name": "stdout",
          "output_type": "stream",
          "text": [
            "Starting batch: 1500\n"
          ]
        },
        {
          "name": "stdout",
          "output_type": "stream",
          "text": [
            "Starting batch: 2000\n"
          ]
        },
        {
          "name": "stdout",
          "output_type": "stream",
          "text": [
            "Starting batch: 2500\n"
          ]
        },
        {
          "name": "stdout",
          "output_type": "stream",
          "text": [
            "Starting batch: 3000\n"
          ]
        },
        {
          "name": "stdout",
          "output_type": "stream",
          "text": [
            "Starting batch: 3500\n"
          ]
        },
        {
          "name": "stdout",
          "output_type": "stream",
          "text": [
            "Starting batch: 4000\n"
          ]
        },
        {
          "name": "stdout",
          "output_type": "stream",
          "text": [
            "Starting batch: 4500\n"
          ]
        },
        {
          "name": "stdout",
          "output_type": "stream",
          "text": [
            "Starting batch: 5000\n"
          ]
        },
        {
          "name": "stdout",
          "output_type": "stream",
          "text": [
            "Starting validation .........\n"
          ]
        },
        {
          "name": "stdout",
          "output_type": "stream",
          "text": [
            "Starting batch 0\n"
          ]
        },
        {
          "name": "stdout",
          "output_type": "stream",
          "text": [
            "Starting batch 500\n"
          ]
        },
        {
          "name": "stdout",
          "output_type": "stream",
          "text": [
            "Starting batch 1000\n"
          ]
        },
        {
          "name": "stdout",
          "output_type": "stream",
          "text": [
            "Starting batch 1500\n"
          ]
        },
        {
          "name": "stdout",
          "output_type": "stream",
          "text": [
            "Starting batch 2000\n"
          ]
        },
        {
          "name": "stdout",
          "output_type": "stream",
          "text": [
            "Epoch train loss : 5.2155369205444835| Time: 71m 36s\n",
            "Epoch valid loss: -0.9795680497672427\n",
            "Epoch EM: 22.034058656575212\n",
            "Epoch F1: 32.249496054888766\n",
            "====================================================================================\n",
            "Epoch 7\n",
            "hit\n",
            "Starting training ........\n"
          ]
        },
        {
          "name": "stdout",
          "output_type": "stream",
          "text": [
            "Starting batch: 0\n"
          ]
        },
        {
          "name": "stdout",
          "output_type": "stream",
          "text": [
            "Starting batch: 500\n"
          ]
        },
        {
          "name": "stdout",
          "output_type": "stream",
          "text": [
            "Starting batch: 1000\n"
          ]
        },
        {
          "name": "stdout",
          "output_type": "stream",
          "text": [
            "Starting batch: 1500\n"
          ]
        },
        {
          "name": "stdout",
          "output_type": "stream",
          "text": [
            "Starting batch: 2000\n"
          ]
        },
        {
          "name": "stdout",
          "output_type": "stream",
          "text": [
            "Starting batch: 2500\n"
          ]
        },
        {
          "name": "stdout",
          "output_type": "stream",
          "text": [
            "Starting batch: 3000\n"
          ]
        },
        {
          "name": "stdout",
          "output_type": "stream",
          "text": [
            "Starting batch: 3500\n"
          ]
        },
        {
          "name": "stdout",
          "output_type": "stream",
          "text": [
            "Starting batch: 4000\n"
          ]
        },
        {
          "name": "stdout",
          "output_type": "stream",
          "text": [
            "Starting batch: 4500\n"
          ]
        },
        {
          "name": "stdout",
          "output_type": "stream",
          "text": [
            "Starting batch: 5000\n"
          ]
        },
        {
          "name": "stdout",
          "output_type": "stream",
          "text": [
            "Starting validation .........\n"
          ]
        },
        {
          "name": "stdout",
          "output_type": "stream",
          "text": [
            "Starting batch 0\n"
          ]
        },
        {
          "name": "stdout",
          "output_type": "stream",
          "text": [
            "Starting batch 500\n"
          ]
        },
        {
          "name": "stdout",
          "output_type": "stream",
          "text": [
            "Starting batch 1000\n"
          ]
        },
        {
          "name": "stdout",
          "output_type": "stream",
          "text": [
            "Starting batch 1500\n"
          ]
        },
        {
          "name": "stdout",
          "output_type": "stream",
          "text": [
            "Starting batch 2000\n"
          ]
        },
        {
          "name": "stdout",
          "output_type": "stream",
          "text": [
            "Epoch train loss : 4.930713305272916| Time: 72m 17s\n",
            "Epoch valid loss: -2.0901983374860924\n",
            "Epoch EM: 24.98580889309366\n",
            "Epoch F1: 35.375268605117604\n",
            "====================================================================================\n",
            "Epoch 8\n",
            "hit\n",
            "Starting training ........\n"
          ]
        },
        {
          "name": "stdout",
          "output_type": "stream",
          "text": [
            "Starting batch: 0\n"
          ]
        },
        {
          "name": "stdout",
          "output_type": "stream",
          "text": [
            "Starting batch: 500\n"
          ]
        },
        {
          "name": "stdout",
          "output_type": "stream",
          "text": [
            "Starting batch: 1000\n"
          ]
        },
        {
          "name": "stdout",
          "output_type": "stream",
          "text": [
            "Starting batch: 1500\n"
          ]
        },
        {
          "name": "stdout",
          "output_type": "stream",
          "text": [
            "Starting batch: 2000\n"
          ]
        },
        {
          "name": "stdout",
          "output_type": "stream",
          "text": [
            "Starting batch: 2500\n"
          ]
        },
        {
          "name": "stdout",
          "output_type": "stream",
          "text": [
            "Starting batch: 3000\n"
          ]
        },
        {
          "name": "stdout",
          "output_type": "stream",
          "text": [
            "Starting batch: 3500\n"
          ]
        },
        {
          "name": "stdout",
          "output_type": "stream",
          "text": [
            "Starting batch: 4000\n"
          ]
        },
        {
          "name": "stdout",
          "output_type": "stream",
          "text": [
            "Starting batch: 4500\n"
          ]
        },
        {
          "name": "stdout",
          "output_type": "stream",
          "text": [
            "Starting batch: 5000\n"
          ]
        },
        {
          "name": "stdout",
          "output_type": "stream",
          "text": [
            "Starting validation .........\n"
          ]
        },
        {
          "name": "stdout",
          "output_type": "stream",
          "text": [
            "Starting batch 0\n"
          ]
        },
        {
          "name": "stdout",
          "output_type": "stream",
          "text": [
            "Starting batch 500\n"
          ]
        },
        {
          "name": "stdout",
          "output_type": "stream",
          "text": [
            "Starting batch 1000\n"
          ]
        },
        {
          "name": "stdout",
          "output_type": "stream",
          "text": [
            "Starting batch 1500\n"
          ]
        },
        {
          "name": "stdout",
          "output_type": "stream",
          "text": [
            "Starting batch 2000\n"
          ]
        },
        {
          "name": "stdout",
          "output_type": "stream",
          "text": [
            "Epoch train loss : 4.658193145939827| Time: 72m 7s\n",
            "Epoch valid loss: -0.8792705995061308\n",
            "Epoch EM: 27.672658467360453\n",
            "Epoch F1: 38.555971133225334\n",
            "====================================================================================\n",
            "Epoch 9\n",
            "hit\n",
            "Starting training ........\n"
          ]
        },
        {
          "name": "stdout",
          "output_type": "stream",
          "text": [
            "Starting batch: 0\n"
          ]
        },
        {
          "name": "stdout",
          "output_type": "stream",
          "text": [
            "Starting batch: 500\n"
          ]
        },
        {
          "name": "stdout",
          "output_type": "stream",
          "text": [
            "Starting batch: 1000\n"
          ]
        },
        {
          "name": "stdout",
          "output_type": "stream",
          "text": [
            "Starting batch: 1500\n"
          ]
        },
        {
          "name": "stdout",
          "output_type": "stream",
          "text": [
            "Starting batch: 2000\n"
          ]
        },
        {
          "name": "stdout",
          "output_type": "stream",
          "text": [
            "Starting batch: 2500\n"
          ]
        },
        {
          "name": "stdout",
          "output_type": "stream",
          "text": [
            "Starting batch: 3000\n"
          ]
        },
        {
          "name": "stdout",
          "output_type": "stream",
          "text": [
            "Starting batch: 3500\n"
          ]
        },
        {
          "name": "stdout",
          "output_type": "stream",
          "text": [
            "Starting batch: 4000\n"
          ]
        },
        {
          "name": "stdout",
          "output_type": "stream",
          "text": [
            "Starting batch: 4500\n"
          ]
        },
        {
          "name": "stdout",
          "output_type": "stream",
          "text": [
            "Starting batch: 5000\n"
          ]
        },
        {
          "name": "stdout",
          "output_type": "stream",
          "text": [
            "Starting validation .........\n"
          ]
        },
        {
          "name": "stdout",
          "output_type": "stream",
          "text": [
            "Starting batch 0\n"
          ]
        },
        {
          "name": "stdout",
          "output_type": "stream",
          "text": [
            "Starting batch 500\n"
          ]
        },
        {
          "name": "stdout",
          "output_type": "stream",
          "text": [
            "Starting batch 1000\n"
          ]
        },
        {
          "name": "stdout",
          "output_type": "stream",
          "text": [
            "Starting batch 1500\n"
          ]
        },
        {
          "name": "stdout",
          "output_type": "stream",
          "text": [
            "Starting batch 2000\n"
          ]
        },
        {
          "name": "stdout",
          "output_type": "stream",
          "text": [
            "Epoch train loss : 4.432626210137928| Time: 71m 22s\n",
            "Epoch valid loss: -2.292659145747552\n",
            "Epoch EM: 29.110690633869442\n",
            "Epoch F1: 40.08538293270596\n",
            "====================================================================================\n",
            "Epoch 10\n",
            "hit\n",
            "Starting training ........\n"
          ]
        },
        {
          "name": "stdout",
          "output_type": "stream",
          "text": [
            "Starting batch: 0\n"
          ]
        },
        {
          "name": "stdout",
          "output_type": "stream",
          "text": [
            "Starting batch: 500\n"
          ]
        },
        {
          "name": "stdout",
          "output_type": "stream",
          "text": [
            "Starting batch: 1000\n"
          ]
        },
        {
          "name": "stdout",
          "output_type": "stream",
          "text": [
            "Starting batch: 1500\n"
          ]
        },
        {
          "name": "stdout",
          "output_type": "stream",
          "text": [
            "Starting batch: 2000\n"
          ]
        },
        {
          "name": "stdout",
          "output_type": "stream",
          "text": [
            "Starting batch: 2500\n"
          ]
        },
        {
          "name": "stdout",
          "output_type": "stream",
          "text": [
            "Starting batch: 3000\n"
          ]
        },
        {
          "name": "stdout",
          "output_type": "stream",
          "text": [
            "Starting batch: 3500\n"
          ]
        },
        {
          "name": "stdout",
          "output_type": "stream",
          "text": [
            "Starting batch: 4000\n"
          ]
        },
        {
          "name": "stdout",
          "output_type": "stream",
          "text": [
            "Starting batch: 4500\n"
          ]
        },
        {
          "name": "stdout",
          "output_type": "stream",
          "text": [
            "Starting batch: 5000\n"
          ]
        },
        {
          "name": "stdout",
          "output_type": "stream",
          "text": [
            "Starting validation .........\n"
          ]
        },
        {
          "name": "stdout",
          "output_type": "stream",
          "text": [
            "Starting batch 0\n"
          ]
        },
        {
          "name": "stdout",
          "output_type": "stream",
          "text": [
            "Starting batch 500\n"
          ]
        },
        {
          "name": "stdout",
          "output_type": "stream",
          "text": [
            "Starting batch 1000\n"
          ]
        },
        {
          "name": "stdout",
          "output_type": "stream",
          "text": [
            "Starting batch 1500\n"
          ]
        }
      ],
      "source": [
        "\n",
        "train_losses = []\n",
        "valid_losses = []\n",
        "ems = []\n",
        "f1s = []\n",
        "epochs = 10\n",
        "for epoch in range(epochs):\n",
        "    print(f\"Epoch {epoch+1}\")\n",
        "    start_time = time.time()\n",
        "    print(\"hit\")\n",
        "    train_loss = train(model, train_dataset)\n",
        "    valid_loss, em, f1 = valid(model, valid_dataset)\n",
        "    torch.save(model.state_dict(),f'model_epoch{epoch+1}.pt')\n",
        "    \n",
        "    end_time = time.time()\n",
        "    \n",
        "    epoch_mins, epoch_secs = epoch_time(start_time, end_time)\n",
        "    \n",
        "    train_losses.append(train_loss)\n",
        "    valid_losses.append(valid_loss)\n",
        "    ems.append(em)\n",
        "    f1s.append(f1)\n",
        "    \n",
        "    print(f\"Epoch train loss : {train_loss}| Time: {epoch_mins}m {epoch_secs}s\")\n",
        "    print(f\"Epoch valid loss: {valid_loss}\")\n",
        "    print(f\"Epoch EM: {em}\")\n",
        "    print(f\"Epoch F1: {f1}\")\n",
        "    \n",
        "    print(\"====================================================================================\")\n",
        "    "
      ]
    },
    {
      "cell_type": "code",
      "execution_count": 6,
      "id": "dcdace66",
      "metadata": {
        "papermill": {
          "duration": null,
          "end_time": null,
          "exception": null,
          "start_time": null,
          "status": "pending"
        },
        "tags": [],
        "colab": {
          "base_uri": "https://localhost:8080/",
          "height": 472
        },
        "id": "dcdace66",
        "outputId": "3b767879-e7a5-4b76-f633-d1ed207f6ca9"
      },
      "outputs": [
        {
          "output_type": "display_data",
          "data": {
            "text/plain": [
              "<Figure size 640x480 with 1 Axes>"
            ],
            "image/png": "[encoded data removed]"
          },
          "metadata": {}
        }
      ],
      "source": [
        "import matplotlib.pyplot as plt\n",
        "\n",
        "epochs = range(1, len(train_losses) + 1)\n",
        "\n",
        "plt.plot(epochs, train_losses, 'r', label='Training loss')\n",
        "plt.plot(epochs, valid_losses, 'b', label='Validation loss')\n",
        "plt.title('Training and Validation Loss')\n",
        "plt.xlabel('Epochs')\n",
        "plt.ylabel('Loss')\n",
        "plt.grid(True)  \n",
        "plt.legend()\n",
        "plt.show()"
      ]
    },
    {
      "cell_type": "code",
      "source": [
        "epochs = range(1, len(f1s) + 1)\n",
        "plt.plot(epochs, f1s, 'g', label='F1 score')\n",
        "plt.title('F1 score')\n",
        "plt.xlabel('Epochs')\n",
        "plt.ylabel('F1 score')\n",
        "plt.grid(True)  \n",
        "plt.legend()\n",
        "plt.show()"
      ],
      "metadata": {
        "colab": {
          "base_uri": "https://localhost:8080/",
          "height": 472
        },
        "id": "j_fC-MwVyNHQ",
        "outputId": "94237d56-c43b-4dad-b2cc-98fc44bd9317"
      },
      "id": "j_fC-MwVyNHQ",
      "execution_count": 2,
      "outputs": [
        {
          "output_type": "display_data",
          "data": {
            "text/plain": [
              "<Figure size 640x480 with 1 Axes>"
            ],
            "image/png": "[encoded data removed]"
          },
          "metadata": {}
        }
      ]
    },
    {
      "cell_type": "code",
      "source": [
        "epochs = range(1, len(ems) + 1)\n",
        "plt.plot(epochs, ems, 'm', label='EM score')\n",
        "plt.title('EM score')\n",
        "plt.xlabel('Epochs')\n",
        "plt.ylabel('EM score')\n",
        "plt.grid(True)  \n",
        "plt.legend()\n",
        "plt.show()"
      ],
      "metadata": {
        "colab": {
          "base_uri": "https://localhost:8080/",
          "height": 472
        },
        "id": "coe6pz2lyXI3",
        "outputId": "79f2ada0-6128-40b9-9f19-74b4e942a6a4"
      },
      "id": "coe6pz2lyXI3",
      "execution_count": 3,
      "outputs": [
        {
          "output_type": "display_data",
          "data": {
            "text/plain": [
              "<Figure size 640x480 with 1 Axes>"
            ],
            "image/png": "[encoded data removed]"
          },
          "metadata": {}
        }
      ]
    },
    {
      "cell_type": "code",
      "execution_count": null,
      "id": "a35b7f6d",
      "metadata": {
        "id": "a35b7f6d",
        "papermill": {
          "duration": null,
          "end_time": null,
          "exception": null,
          "start_time": null,
          "status": "pending"
        },
        "tags": []
      },
      "outputs": [],
      "source": [
        "\n",
        "with open('train_loss.pickle','wb') as handle:\n",
        "    pickle.dump(train_losses, handle)\n",
        "\n",
        "with open('valid_loss.pickle','wb') as handle:\n",
        "    pickle.dump(valid_losses, handle)\n",
        "    \n",
        "with open('ems.pickle','wb') as handle:\n",
        "    pickle.dump(ems, handle)\n",
        "    \n",
        "with open('f1s.pickle','wb') as handle:\n",
        "    pickle.dump(f1s, handle)"
      ]
    }
  ],
  "metadata": {
    "kernelspec": {
      "display_name": "Python 3",
      "language": "python",
      "name": "python3"
    },
    "language_info": {
      "codemirror_mode": {
        "name": "ipython",
        "version": 3
      },
      "file_extension": ".py",
      "mimetype": "text/x-python",
      "name": "python",
      "nbconvert_exporter": "python",
      "pygments_lexer": "ipython3",
      "version": "3.6.4"
    },
    "papermill": {
      "default_parameters": {},
      "duration": null,
      "end_time": null,
      "environment_variables": {},
      "exception": null,
      "input_path": "__notebook__.ipynb",
      "output_path": "__notebook__.ipynb",
      "parameters": {},
      "start_time": "2023-05-15T23:56:27.825047",
      "version": "2.4.0"
    },
    "colab": {
      "provenance": []
    }
  },
  "nbformat": 4,
  "nbformat_minor": 5
}